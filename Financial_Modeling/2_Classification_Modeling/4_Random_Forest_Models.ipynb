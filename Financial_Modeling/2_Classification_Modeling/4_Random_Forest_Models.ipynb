{
 "cells": [
  {
   "cell_type": "markdown",
   "metadata": {},
   "source": [
    "# Random Forest Classification Models\n",
    "\n",
    "---------\n",
    "\n",
    "###  Overview: \n",
    "- [Importing the Data](#Importing)\n",
    "- [Data Preprocessing](#DPP)\n",
    "- [Splitting the Data](#Splitting)\n",
    "- Classification Models:\n",
    "    - [Random Forest Classification](#RFC)\n",
    "    - [Bagging Classification](#Bagging)\n",
    "    - [GridSearching a Random Forest](#Gridsearch)\n",
    "    - [GridSearching a Bagging Classifier](#Gridsearch2)\n",
    "\n",
    "--------\n",
    "\n",
    "\n",
    "## Importing Libraries:"
   ]
  },
  {
   "cell_type": "code",
   "execution_count": 1,
   "metadata": {},
   "outputs": [],
   "source": [
    "import pandas as pd\n",
    "import numpy as np\n",
    "import matplotlib.pyplot as plt \n",
    "import seaborn as sns\n",
    "\n",
    "from datetime import datetime\n",
    "\n",
    "from sklearn.ensemble import RandomForestClassifier, BaggingClassifier\n",
    "from sklearn.model_selection import TimeSeriesSplit\n",
    "from sklearn.decomposition import PCA\n",
    "from sklearn.model_selection import GridSearchCV\n",
    "from sklearn.pipeline import Pipeline\n",
    "\n",
    "import sys\n",
    "sys.path.append('..')\n",
    "\n",
    "%matplotlib inline\n",
    "%config InlineBackend.figure_format = 'retina'\n",
    "%load_ext autoreload\n",
    "%autoreload 2"
   ]
  },
  {
   "cell_type": "markdown",
   "metadata": {},
   "source": [
    "-----\n",
    "\n",
    "## Company Name"
   ]
  },
  {
   "cell_type": "code",
   "execution_count": 2,
   "metadata": {},
   "outputs": [],
   "source": [
    "company_name = 'Apple'"
   ]
  },
  {
   "cell_type": "markdown",
   "metadata": {},
   "source": [
    "-------\n",
    "<a class=\"anchor\" id=\"Importing\"></a>\n",
    "\n",
    "# Importing the Data"
   ]
  },
  {
   "cell_type": "markdown",
   "metadata": {},
   "source": [
    "### Importing the Raw Dataframe:"
   ]
  },
  {
   "cell_type": "code",
   "execution_count": 3,
   "metadata": {},
   "outputs": [],
   "source": [
    "def file_importer(company_name, file_name):\n",
    "    \"\"\"\n",
    "    Imports a dataframe according to the company and file-name.\n",
    "    \n",
    "    Parameters\n",
    "    ------------\n",
    "    company_name : str or var\n",
    "        Passes the company's name as a string or variable.\n",
    "    \n",
    "    file_name : str\n",
    "        Passes a the file name as a string. \n",
    "    \"\"\"\n",
    "    # Using the company's name, the dataset will be read from a CSV file via panda's dataframe.\n",
    "    company_name=company_name\n",
    "    df = pd.read_csv(f'data/{company_name}_{file_name}.csv')\n",
    "    # Converting the date as time, placing it as the index, and will sort in ascending order.\n",
    "    df['Date'] = pd.to_datetime(df.Date)\n",
    "    df.set_index('Date', inplace=True)\n",
    "    df.sort_index(inplace=True, ascending=True)\n",
    "    return df"
   ]
  },
  {
   "cell_type": "markdown",
   "metadata": {},
   "source": [
    "### Importing the Engineered Dataframe:"
   ]
  },
  {
   "cell_type": "code",
   "execution_count": 4,
   "metadata": {
    "scrolled": true
   },
   "outputs": [
    {
     "data": {
      "text/html": [
       "<div>\n",
       "<style scoped>\n",
       "    .dataframe tbody tr th:only-of-type {\n",
       "        vertical-align: middle;\n",
       "    }\n",
       "\n",
       "    .dataframe tbody tr th {\n",
       "        vertical-align: top;\n",
       "    }\n",
       "\n",
       "    .dataframe thead th {\n",
       "        text-align: right;\n",
       "    }\n",
       "</style>\n",
       "<table border=\"1\" class=\"dataframe\">\n",
       "  <thead>\n",
       "    <tr style=\"text-align: right;\">\n",
       "      <th></th>\n",
       "      <th>Open</th>\n",
       "      <th>High</th>\n",
       "      <th>Low</th>\n",
       "      <th>Close</th>\n",
       "      <th>Volume</th>\n",
       "      <th>Ex_Dividend</th>\n",
       "      <th>Split_Ratio</th>\n",
       "      <th>Adj_Open</th>\n",
       "      <th>Adj_High</th>\n",
       "      <th>Adj_Low</th>\n",
       "      <th>...</th>\n",
       "      <th>PX14A6G</th>\n",
       "      <th>S-3</th>\n",
       "      <th>S-3ASR</th>\n",
       "      <th>S-4</th>\n",
       "      <th>S-8</th>\n",
       "      <th>SC 13D</th>\n",
       "      <th>SC 13G</th>\n",
       "      <th>SC TO-I</th>\n",
       "      <th>SD</th>\n",
       "      <th>UPLOAD</th>\n",
       "    </tr>\n",
       "    <tr>\n",
       "      <th>Date</th>\n",
       "      <th></th>\n",
       "      <th></th>\n",
       "      <th></th>\n",
       "      <th></th>\n",
       "      <th></th>\n",
       "      <th></th>\n",
       "      <th></th>\n",
       "      <th></th>\n",
       "      <th></th>\n",
       "      <th></th>\n",
       "      <th></th>\n",
       "      <th></th>\n",
       "      <th></th>\n",
       "      <th></th>\n",
       "      <th></th>\n",
       "      <th></th>\n",
       "      <th></th>\n",
       "      <th></th>\n",
       "      <th></th>\n",
       "      <th></th>\n",
       "      <th></th>\n",
       "    </tr>\n",
       "  </thead>\n",
       "  <tbody>\n",
       "    <tr>\n",
       "      <th>1994-01-26</th>\n",
       "      <td>33.75</td>\n",
       "      <td>34.0</td>\n",
       "      <td>33.25</td>\n",
       "      <td>33.5</td>\n",
       "      <td>1480400.0</td>\n",
       "      <td>0.0</td>\n",
       "      <td>1.0</td>\n",
       "      <td>1.057482</td>\n",
       "      <td>1.065315</td>\n",
       "      <td>1.041815</td>\n",
       "      <td>...</td>\n",
       "      <td>0</td>\n",
       "      <td>0</td>\n",
       "      <td>0</td>\n",
       "      <td>0</td>\n",
       "      <td>0</td>\n",
       "      <td>0</td>\n",
       "      <td>0</td>\n",
       "      <td>0</td>\n",
       "      <td>0</td>\n",
       "      <td>0</td>\n",
       "    </tr>\n",
       "    <tr>\n",
       "      <th>1994-01-26</th>\n",
       "      <td>33.75</td>\n",
       "      <td>34.0</td>\n",
       "      <td>33.25</td>\n",
       "      <td>33.5</td>\n",
       "      <td>1480400.0</td>\n",
       "      <td>0.0</td>\n",
       "      <td>1.0</td>\n",
       "      <td>1.057482</td>\n",
       "      <td>1.065315</td>\n",
       "      <td>1.041815</td>\n",
       "      <td>...</td>\n",
       "      <td>0</td>\n",
       "      <td>0</td>\n",
       "      <td>0</td>\n",
       "      <td>0</td>\n",
       "      <td>0</td>\n",
       "      <td>0</td>\n",
       "      <td>0</td>\n",
       "      <td>0</td>\n",
       "      <td>0</td>\n",
       "      <td>0</td>\n",
       "    </tr>\n",
       "    <tr>\n",
       "      <th>1994-02-10</th>\n",
       "      <td>36.25</td>\n",
       "      <td>37.5</td>\n",
       "      <td>36.00</td>\n",
       "      <td>36.5</td>\n",
       "      <td>2696700.0</td>\n",
       "      <td>0.0</td>\n",
       "      <td>1.0</td>\n",
       "      <td>1.139548</td>\n",
       "      <td>1.178843</td>\n",
       "      <td>1.131689</td>\n",
       "      <td>...</td>\n",
       "      <td>0</td>\n",
       "      <td>0</td>\n",
       "      <td>0</td>\n",
       "      <td>0</td>\n",
       "      <td>0</td>\n",
       "      <td>0</td>\n",
       "      <td>1</td>\n",
       "      <td>0</td>\n",
       "      <td>0</td>\n",
       "      <td>0</td>\n",
       "    </tr>\n",
       "  </tbody>\n",
       "</table>\n",
       "<p>3 rows × 138 columns</p>\n",
       "</div>"
      ],
      "text/plain": [
       "             Open  High    Low  Close     Volume  Ex_Dividend  Split_Ratio  \\\n",
       "Date                                                                         \n",
       "1994-01-26  33.75  34.0  33.25   33.5  1480400.0          0.0          1.0   \n",
       "1994-01-26  33.75  34.0  33.25   33.5  1480400.0          0.0          1.0   \n",
       "1994-02-10  36.25  37.5  36.00   36.5  2696700.0          0.0          1.0   \n",
       "\n",
       "            Adj_Open  Adj_High   Adj_Low   ...    PX14A6G  S-3  S-3ASR  S-4  \\\n",
       "Date                                       ...                                \n",
       "1994-01-26  1.057482  1.065315  1.041815   ...          0    0       0    0   \n",
       "1994-01-26  1.057482  1.065315  1.041815   ...          0    0       0    0   \n",
       "1994-02-10  1.139548  1.178843  1.131689   ...          0    0       0    0   \n",
       "\n",
       "            S-8  SC 13D  SC 13G  SC TO-I  SD  UPLOAD  \n",
       "Date                                                  \n",
       "1994-01-26    0       0       0        0   0       0  \n",
       "1994-01-26    0       0       0        0   0       0  \n",
       "1994-02-10    0       0       1        0   0       0  \n",
       "\n",
       "[3 rows x 138 columns]"
      ]
     },
     "execution_count": 4,
     "metadata": {},
     "output_type": "execute_result"
    }
   ],
   "source": [
    "df = file_importer(company_name, 'wSEC_Inner')\n",
    "df.head(3)"
   ]
  },
  {
   "cell_type": "markdown",
   "metadata": {},
   "source": [
    "--------\n",
    "<a class=\"anchor\" id=\"DPP\"></a>\n",
    "\n",
    "# Data Preprocessing - Preparing the Data for Modeling:\n",
    "\n",
    "\n",
    "### Shifting the Dates for the Engineered Dataframe:\n",
    "\n",
    "- Using a custom function to shift the data one business-day into the future.\n"
   ]
  },
  {
   "cell_type": "code",
   "execution_count": 5,
   "metadata": {},
   "outputs": [],
   "source": [
    "from lib.helper import date_shifter"
   ]
  },
  {
   "cell_type": "code",
   "execution_count": 6,
   "metadata": {},
   "outputs": [
    {
     "data": {
      "text/html": [
       "<div>\n",
       "<style scoped>\n",
       "    .dataframe tbody tr th:only-of-type {\n",
       "        vertical-align: middle;\n",
       "    }\n",
       "\n",
       "    .dataframe tbody tr th {\n",
       "        vertical-align: top;\n",
       "    }\n",
       "\n",
       "    .dataframe thead th {\n",
       "        text-align: right;\n",
       "    }\n",
       "</style>\n",
       "<table border=\"1\" class=\"dataframe\">\n",
       "  <thead>\n",
       "    <tr style=\"text-align: right;\">\n",
       "      <th></th>\n",
       "      <th>Open</th>\n",
       "      <th>High</th>\n",
       "      <th>Low</th>\n",
       "      <th>Close</th>\n",
       "      <th>Volume</th>\n",
       "      <th>Ex_Dividend</th>\n",
       "      <th>Split_Ratio</th>\n",
       "      <th>Adj_Open</th>\n",
       "      <th>Adj_High</th>\n",
       "      <th>Adj_Low</th>\n",
       "      <th>...</th>\n",
       "      <th>PX14A6G</th>\n",
       "      <th>S-3</th>\n",
       "      <th>S-3ASR</th>\n",
       "      <th>S-4</th>\n",
       "      <th>S-8</th>\n",
       "      <th>SC 13D</th>\n",
       "      <th>SC 13G</th>\n",
       "      <th>SC TO-I</th>\n",
       "      <th>SD</th>\n",
       "      <th>UPLOAD</th>\n",
       "    </tr>\n",
       "    <tr>\n",
       "      <th>Date</th>\n",
       "      <th></th>\n",
       "      <th></th>\n",
       "      <th></th>\n",
       "      <th></th>\n",
       "      <th></th>\n",
       "      <th></th>\n",
       "      <th></th>\n",
       "      <th></th>\n",
       "      <th></th>\n",
       "      <th></th>\n",
       "      <th></th>\n",
       "      <th></th>\n",
       "      <th></th>\n",
       "      <th></th>\n",
       "      <th></th>\n",
       "      <th></th>\n",
       "      <th></th>\n",
       "      <th></th>\n",
       "      <th></th>\n",
       "      <th></th>\n",
       "      <th></th>\n",
       "    </tr>\n",
       "  </thead>\n",
       "  <tbody>\n",
       "    <tr>\n",
       "      <th>1994-01-26</th>\n",
       "      <td>33.75</td>\n",
       "      <td>34</td>\n",
       "      <td>33.25</td>\n",
       "      <td>33.5</td>\n",
       "      <td>1.4804e+06</td>\n",
       "      <td>0</td>\n",
       "      <td>1</td>\n",
       "      <td>1.05748</td>\n",
       "      <td>1.06532</td>\n",
       "      <td>1.04182</td>\n",
       "      <td>...</td>\n",
       "      <td>0</td>\n",
       "      <td>0</td>\n",
       "      <td>0</td>\n",
       "      <td>0</td>\n",
       "      <td>0</td>\n",
       "      <td>0</td>\n",
       "      <td>0</td>\n",
       "      <td>0</td>\n",
       "      <td>0</td>\n",
       "      <td>0</td>\n",
       "    </tr>\n",
       "    <tr>\n",
       "      <th>1994-02-10</th>\n",
       "      <td>33.75</td>\n",
       "      <td>34</td>\n",
       "      <td>33.25</td>\n",
       "      <td>33.5</td>\n",
       "      <td>1.4804e+06</td>\n",
       "      <td>0</td>\n",
       "      <td>1</td>\n",
       "      <td>1.05748</td>\n",
       "      <td>1.06532</td>\n",
       "      <td>1.04182</td>\n",
       "      <td>...</td>\n",
       "      <td>0</td>\n",
       "      <td>0</td>\n",
       "      <td>0</td>\n",
       "      <td>0</td>\n",
       "      <td>0</td>\n",
       "      <td>0</td>\n",
       "      <td>0</td>\n",
       "      <td>0</td>\n",
       "      <td>0</td>\n",
       "      <td>0</td>\n",
       "    </tr>\n",
       "    <tr>\n",
       "      <th>1994-02-17</th>\n",
       "      <td>36.25</td>\n",
       "      <td>37.5</td>\n",
       "      <td>36</td>\n",
       "      <td>36.5</td>\n",
       "      <td>2.6967e+06</td>\n",
       "      <td>0</td>\n",
       "      <td>1</td>\n",
       "      <td>1.13955</td>\n",
       "      <td>1.17884</td>\n",
       "      <td>1.13169</td>\n",
       "      <td>...</td>\n",
       "      <td>0</td>\n",
       "      <td>0</td>\n",
       "      <td>0</td>\n",
       "      <td>0</td>\n",
       "      <td>0</td>\n",
       "      <td>0</td>\n",
       "      <td>1</td>\n",
       "      <td>0</td>\n",
       "      <td>0</td>\n",
       "      <td>0</td>\n",
       "    </tr>\n",
       "  </tbody>\n",
       "</table>\n",
       "<p>3 rows × 138 columns</p>\n",
       "</div>"
      ],
      "text/plain": [
       "             Open  High    Low Close      Volume Ex_Dividend Split_Ratio  \\\n",
       "Date                                                                       \n",
       "1994-01-26  33.75    34  33.25  33.5  1.4804e+06           0           1   \n",
       "1994-02-10  33.75    34  33.25  33.5  1.4804e+06           0           1   \n",
       "1994-02-17  36.25  37.5     36  36.5  2.6967e+06           0           1   \n",
       "\n",
       "           Adj_Open Adj_High  Adj_Low  ...   PX14A6G S-3 S-3ASR S-4 S-8  \\\n",
       "Date                                   ...                                \n",
       "1994-01-26  1.05748  1.06532  1.04182  ...         0   0      0   0   0   \n",
       "1994-02-10  1.05748  1.06532  1.04182  ...         0   0      0   0   0   \n",
       "1994-02-17  1.13955  1.17884  1.13169  ...         0   0      0   0   0   \n",
       "\n",
       "           SC 13D SC 13G SC TO-I SD UPLOAD  \n",
       "Date                                        \n",
       "1994-01-26      0      0       0  0      0  \n",
       "1994-02-10      0      0       0  0      0  \n",
       "1994-02-17      0      1       0  0      0  \n",
       "\n",
       "[3 rows x 138 columns]"
      ]
     },
     "execution_count": 6,
     "metadata": {},
     "output_type": "execute_result"
    }
   ],
   "source": [
    "df_shifted = date_shifter(df)\n",
    "df_shifted.head(3)"
   ]
  },
  {
   "cell_type": "markdown",
   "metadata": {},
   "source": [
    "### Setting the Label:\n",
    "- The Adjusted Close Difference will be set as the target to predict. This will indicate whether a document filing has a negative or positive correlation with the price; or, in simple words whether the price will increase or decrease."
   ]
  },
  {
   "cell_type": "code",
   "execution_count": 7,
   "metadata": {},
   "outputs": [],
   "source": [
    "df_shifted['Target'] = df_shifted.Adj_Close_Diff.apply(lambda x: str(1) if x >= 0 else str(0))"
   ]
  },
  {
   "cell_type": "markdown",
   "metadata": {},
   "source": [
    "### Dropping the Continuous Data:\n",
    "- In the following cell, the continuous data will be dropped, keeping all of the Categorical (Binary) data for a classification model."
   ]
  },
  {
   "cell_type": "code",
   "execution_count": 8,
   "metadata": {},
   "outputs": [],
   "source": [
    "new_df = df_shifted.loc[:, 'document_type':'Target']"
   ]
  },
  {
   "cell_type": "markdown",
   "metadata": {},
   "source": [
    "### Converting All Values into Integers:\n",
    "- Turning all float (decimal) values into zero integers."
   ]
  },
  {
   "cell_type": "code",
   "execution_count": 9,
   "metadata": {},
   "outputs": [],
   "source": [
    "new_df = new_df.apply(pd.to_numeric, errors='ignore')"
   ]
  },
  {
   "cell_type": "code",
   "execution_count": 10,
   "metadata": {},
   "outputs": [
    {
     "data": {
      "text/html": [
       "<div>\n",
       "<style scoped>\n",
       "    .dataframe tbody tr th:only-of-type {\n",
       "        vertical-align: middle;\n",
       "    }\n",
       "\n",
       "    .dataframe tbody tr th {\n",
       "        vertical-align: top;\n",
       "    }\n",
       "\n",
       "    .dataframe thead th {\n",
       "        text-align: right;\n",
       "    }\n",
       "</style>\n",
       "<table border=\"1\" class=\"dataframe\">\n",
       "  <thead>\n",
       "    <tr style=\"text-align: right;\">\n",
       "      <th></th>\n",
       "      <th>document_type</th>\n",
       "      <th>10-K</th>\n",
       "      <th>10-K405</th>\n",
       "      <th>10-Q</th>\n",
       "      <th>424B2</th>\n",
       "      <th>424B3</th>\n",
       "      <th>424B5</th>\n",
       "      <th>8-A12B</th>\n",
       "      <th>8-K</th>\n",
       "      <th>CERTNYS</th>\n",
       "      <th>...</th>\n",
       "      <th>S-3</th>\n",
       "      <th>S-3ASR</th>\n",
       "      <th>S-4</th>\n",
       "      <th>S-8</th>\n",
       "      <th>SC 13D</th>\n",
       "      <th>SC 13G</th>\n",
       "      <th>SC TO-I</th>\n",
       "      <th>SD</th>\n",
       "      <th>UPLOAD</th>\n",
       "      <th>Target</th>\n",
       "    </tr>\n",
       "    <tr>\n",
       "      <th>Date</th>\n",
       "      <th></th>\n",
       "      <th></th>\n",
       "      <th></th>\n",
       "      <th></th>\n",
       "      <th></th>\n",
       "      <th></th>\n",
       "      <th></th>\n",
       "      <th></th>\n",
       "      <th></th>\n",
       "      <th></th>\n",
       "      <th></th>\n",
       "      <th></th>\n",
       "      <th></th>\n",
       "      <th></th>\n",
       "      <th></th>\n",
       "      <th></th>\n",
       "      <th></th>\n",
       "      <th></th>\n",
       "      <th></th>\n",
       "      <th></th>\n",
       "      <th></th>\n",
       "    </tr>\n",
       "  </thead>\n",
       "  <tbody>\n",
       "    <tr>\n",
       "      <th>2018-02-12</th>\n",
       "      <td>10-Q</td>\n",
       "      <td>0</td>\n",
       "      <td>0</td>\n",
       "      <td>1</td>\n",
       "      <td>0</td>\n",
       "      <td>0</td>\n",
       "      <td>0</td>\n",
       "      <td>0</td>\n",
       "      <td>0</td>\n",
       "      <td>0</td>\n",
       "      <td>...</td>\n",
       "      <td>0</td>\n",
       "      <td>0</td>\n",
       "      <td>0</td>\n",
       "      <td>0</td>\n",
       "      <td>0</td>\n",
       "      <td>0</td>\n",
       "      <td>0</td>\n",
       "      <td>0</td>\n",
       "      <td>0</td>\n",
       "      <td>0</td>\n",
       "    </tr>\n",
       "    <tr>\n",
       "      <th>2018-02-14</th>\n",
       "      <td>SC 13G</td>\n",
       "      <td>0</td>\n",
       "      <td>0</td>\n",
       "      <td>0</td>\n",
       "      <td>0</td>\n",
       "      <td>0</td>\n",
       "      <td>0</td>\n",
       "      <td>0</td>\n",
       "      <td>0</td>\n",
       "      <td>0</td>\n",
       "      <td>...</td>\n",
       "      <td>0</td>\n",
       "      <td>0</td>\n",
       "      <td>0</td>\n",
       "      <td>0</td>\n",
       "      <td>0</td>\n",
       "      <td>1</td>\n",
       "      <td>0</td>\n",
       "      <td>0</td>\n",
       "      <td>0</td>\n",
       "      <td>1</td>\n",
       "    </tr>\n",
       "    <tr>\n",
       "      <th>2018-03-07</th>\n",
       "      <td>8-K</td>\n",
       "      <td>0</td>\n",
       "      <td>0</td>\n",
       "      <td>0</td>\n",
       "      <td>0</td>\n",
       "      <td>0</td>\n",
       "      <td>0</td>\n",
       "      <td>0</td>\n",
       "      <td>1</td>\n",
       "      <td>0</td>\n",
       "      <td>...</td>\n",
       "      <td>0</td>\n",
       "      <td>0</td>\n",
       "      <td>0</td>\n",
       "      <td>0</td>\n",
       "      <td>0</td>\n",
       "      <td>0</td>\n",
       "      <td>0</td>\n",
       "      <td>0</td>\n",
       "      <td>0</td>\n",
       "      <td>1</td>\n",
       "    </tr>\n",
       "  </tbody>\n",
       "</table>\n",
       "<p>3 rows × 31 columns</p>\n",
       "</div>"
      ],
      "text/plain": [
       "           document_type  10-K  10-K405  10-Q  424B2  424B3  424B5  8-A12B  \\\n",
       "Date                                                                         \n",
       "2018-02-12          10-Q     0        0     1      0      0      0       0   \n",
       "2018-02-14        SC 13G     0        0     0      0      0      0       0   \n",
       "2018-03-07           8-K     0        0     0      0      0      0       0   \n",
       "\n",
       "            8-K  CERTNYS   ...    S-3  S-3ASR  S-4  S-8  SC 13D  SC 13G  \\\n",
       "Date                       ...                                            \n",
       "2018-02-12    0        0   ...      0       0    0    0       0       0   \n",
       "2018-02-14    0        0   ...      0       0    0    0       0       1   \n",
       "2018-03-07    1        0   ...      0       0    0    0       0       0   \n",
       "\n",
       "            SC TO-I  SD  UPLOAD  Target  \n",
       "Date                                     \n",
       "2018-02-12        0   0       0       0  \n",
       "2018-02-14        0   0       0       1  \n",
       "2018-03-07        0   0       0       1  \n",
       "\n",
       "[3 rows x 31 columns]"
      ]
     },
     "execution_count": 10,
     "metadata": {},
     "output_type": "execute_result"
    }
   ],
   "source": [
    "new_df.tail(3)"
   ]
  },
  {
   "cell_type": "markdown",
   "metadata": {},
   "source": [
    "--------\n",
    "<a class=\"anchor\" id=\"Splitting\"></a>\n",
    "\n",
    "## Importing the Training and Test Set:"
   ]
  },
  {
   "cell_type": "markdown",
   "metadata": {},
   "source": [
    "### Importing the Training Dataset:"
   ]
  },
  {
   "cell_type": "code",
   "execution_count": 11,
   "metadata": {},
   "outputs": [
    {
     "data": {
      "text/html": [
       "<div>\n",
       "<style scoped>\n",
       "    .dataframe tbody tr th:only-of-type {\n",
       "        vertical-align: middle;\n",
       "    }\n",
       "\n",
       "    .dataframe tbody tr th {\n",
       "        vertical-align: top;\n",
       "    }\n",
       "\n",
       "    .dataframe thead th {\n",
       "        text-align: right;\n",
       "    }\n",
       "</style>\n",
       "<table border=\"1\" class=\"dataframe\">\n",
       "  <thead>\n",
       "    <tr style=\"text-align: right;\">\n",
       "      <th></th>\n",
       "      <th>10-K</th>\n",
       "      <th>10-K405</th>\n",
       "      <th>10-Q</th>\n",
       "      <th>424B2</th>\n",
       "      <th>424B3</th>\n",
       "      <th>424B5</th>\n",
       "      <th>8-A12B</th>\n",
       "      <th>8-K</th>\n",
       "      <th>CERTNYS</th>\n",
       "      <th>CORRESP</th>\n",
       "      <th>...</th>\n",
       "      <th>PX14A6G</th>\n",
       "      <th>S-3</th>\n",
       "      <th>S-3ASR</th>\n",
       "      <th>S-4</th>\n",
       "      <th>S-8</th>\n",
       "      <th>SC 13D</th>\n",
       "      <th>SC 13G</th>\n",
       "      <th>SC TO-I</th>\n",
       "      <th>SD</th>\n",
       "      <th>UPLOAD</th>\n",
       "    </tr>\n",
       "    <tr>\n",
       "      <th>Date</th>\n",
       "      <th></th>\n",
       "      <th></th>\n",
       "      <th></th>\n",
       "      <th></th>\n",
       "      <th></th>\n",
       "      <th></th>\n",
       "      <th></th>\n",
       "      <th></th>\n",
       "      <th></th>\n",
       "      <th></th>\n",
       "      <th></th>\n",
       "      <th></th>\n",
       "      <th></th>\n",
       "      <th></th>\n",
       "      <th></th>\n",
       "      <th></th>\n",
       "      <th></th>\n",
       "      <th></th>\n",
       "      <th></th>\n",
       "      <th></th>\n",
       "      <th></th>\n",
       "    </tr>\n",
       "  </thead>\n",
       "  <tbody>\n",
       "    <tr>\n",
       "      <th>1994-01-26</th>\n",
       "      <td>0</td>\n",
       "      <td>0</td>\n",
       "      <td>0</td>\n",
       "      <td>0</td>\n",
       "      <td>0</td>\n",
       "      <td>1</td>\n",
       "      <td>0</td>\n",
       "      <td>0</td>\n",
       "      <td>0</td>\n",
       "      <td>0</td>\n",
       "      <td>...</td>\n",
       "      <td>0</td>\n",
       "      <td>0</td>\n",
       "      <td>0</td>\n",
       "      <td>0</td>\n",
       "      <td>0</td>\n",
       "      <td>0</td>\n",
       "      <td>0</td>\n",
       "      <td>0</td>\n",
       "      <td>0</td>\n",
       "      <td>0</td>\n",
       "    </tr>\n",
       "    <tr>\n",
       "      <th>1994-02-10</th>\n",
       "      <td>0</td>\n",
       "      <td>0</td>\n",
       "      <td>1</td>\n",
       "      <td>0</td>\n",
       "      <td>0</td>\n",
       "      <td>0</td>\n",
       "      <td>0</td>\n",
       "      <td>0</td>\n",
       "      <td>0</td>\n",
       "      <td>0</td>\n",
       "      <td>...</td>\n",
       "      <td>0</td>\n",
       "      <td>0</td>\n",
       "      <td>0</td>\n",
       "      <td>0</td>\n",
       "      <td>0</td>\n",
       "      <td>0</td>\n",
       "      <td>0</td>\n",
       "      <td>0</td>\n",
       "      <td>0</td>\n",
       "      <td>0</td>\n",
       "    </tr>\n",
       "    <tr>\n",
       "      <th>1994-02-17</th>\n",
       "      <td>0</td>\n",
       "      <td>0</td>\n",
       "      <td>0</td>\n",
       "      <td>0</td>\n",
       "      <td>0</td>\n",
       "      <td>0</td>\n",
       "      <td>0</td>\n",
       "      <td>0</td>\n",
       "      <td>0</td>\n",
       "      <td>0</td>\n",
       "      <td>...</td>\n",
       "      <td>0</td>\n",
       "      <td>0</td>\n",
       "      <td>0</td>\n",
       "      <td>0</td>\n",
       "      <td>0</td>\n",
       "      <td>0</td>\n",
       "      <td>1</td>\n",
       "      <td>0</td>\n",
       "      <td>0</td>\n",
       "      <td>0</td>\n",
       "    </tr>\n",
       "  </tbody>\n",
       "</table>\n",
       "<p>3 rows × 29 columns</p>\n",
       "</div>"
      ],
      "text/plain": [
       "            10-K  10-K405  10-Q  424B2  424B3  424B5  8-A12B  8-K  CERTNYS  \\\n",
       "Date                                                                         \n",
       "1994-01-26     0        0     0      0      0      1       0    0        0   \n",
       "1994-02-10     0        0     1      0      0      0       0    0        0   \n",
       "1994-02-17     0        0     0      0      0      0       0    0        0   \n",
       "\n",
       "            CORRESP   ...    PX14A6G  S-3  S-3ASR  S-4  S-8  SC 13D  SC 13G  \\\n",
       "Date                  ...                                                     \n",
       "1994-01-26        0   ...          0    0       0    0    0       0       0   \n",
       "1994-02-10        0   ...          0    0       0    0    0       0       0   \n",
       "1994-02-17        0   ...          0    0       0    0    0       0       1   \n",
       "\n",
       "            SC TO-I  SD  UPLOAD  \n",
       "Date                             \n",
       "1994-01-26        0   0       0  \n",
       "1994-02-10        0   0       0  \n",
       "1994-02-17        0   0       0  \n",
       "\n",
       "[3 rows x 29 columns]"
      ]
     },
     "execution_count": 11,
     "metadata": {},
     "output_type": "execute_result"
    }
   ],
   "source": [
    "X_train = file_importer(company_name, 'SEC_X_Train')\n",
    "X_train.drop('document_type', 1, inplace=True)\n",
    "X_train.head(3)"
   ]
  },
  {
   "cell_type": "markdown",
   "metadata": {},
   "source": [
    "-------\n",
    "### Importing the Testing Dataset:"
   ]
  },
  {
   "cell_type": "code",
   "execution_count": 12,
   "metadata": {},
   "outputs": [
    {
     "data": {
      "text/html": [
       "<div>\n",
       "<style scoped>\n",
       "    .dataframe tbody tr th:only-of-type {\n",
       "        vertical-align: middle;\n",
       "    }\n",
       "\n",
       "    .dataframe tbody tr th {\n",
       "        vertical-align: top;\n",
       "    }\n",
       "\n",
       "    .dataframe thead th {\n",
       "        text-align: right;\n",
       "    }\n",
       "</style>\n",
       "<table border=\"1\" class=\"dataframe\">\n",
       "  <thead>\n",
       "    <tr style=\"text-align: right;\">\n",
       "      <th></th>\n",
       "      <th>10-K</th>\n",
       "      <th>10-K405</th>\n",
       "      <th>10-Q</th>\n",
       "      <th>424B2</th>\n",
       "      <th>424B3</th>\n",
       "      <th>424B5</th>\n",
       "      <th>8-A12B</th>\n",
       "      <th>8-K</th>\n",
       "      <th>CERTNYS</th>\n",
       "      <th>CORRESP</th>\n",
       "      <th>...</th>\n",
       "      <th>PX14A6G</th>\n",
       "      <th>S-3</th>\n",
       "      <th>S-3ASR</th>\n",
       "      <th>S-4</th>\n",
       "      <th>S-8</th>\n",
       "      <th>SC 13D</th>\n",
       "      <th>SC 13G</th>\n",
       "      <th>SC TO-I</th>\n",
       "      <th>SD</th>\n",
       "      <th>UPLOAD</th>\n",
       "    </tr>\n",
       "    <tr>\n",
       "      <th>Date</th>\n",
       "      <th></th>\n",
       "      <th></th>\n",
       "      <th></th>\n",
       "      <th></th>\n",
       "      <th></th>\n",
       "      <th></th>\n",
       "      <th></th>\n",
       "      <th></th>\n",
       "      <th></th>\n",
       "      <th></th>\n",
       "      <th></th>\n",
       "      <th></th>\n",
       "      <th></th>\n",
       "      <th></th>\n",
       "      <th></th>\n",
       "      <th></th>\n",
       "      <th></th>\n",
       "      <th></th>\n",
       "      <th></th>\n",
       "      <th></th>\n",
       "      <th></th>\n",
       "    </tr>\n",
       "  </thead>\n",
       "  <tbody>\n",
       "    <tr>\n",
       "      <th>2017-01-06</th>\n",
       "      <td>0</td>\n",
       "      <td>0</td>\n",
       "      <td>0</td>\n",
       "      <td>0</td>\n",
       "      <td>0</td>\n",
       "      <td>0</td>\n",
       "      <td>0</td>\n",
       "      <td>1</td>\n",
       "      <td>0</td>\n",
       "      <td>0</td>\n",
       "      <td>...</td>\n",
       "      <td>0</td>\n",
       "      <td>0</td>\n",
       "      <td>0</td>\n",
       "      <td>0</td>\n",
       "      <td>0</td>\n",
       "      <td>0</td>\n",
       "      <td>0</td>\n",
       "      <td>0</td>\n",
       "      <td>0</td>\n",
       "      <td>0</td>\n",
       "    </tr>\n",
       "    <tr>\n",
       "      <th>2017-01-06</th>\n",
       "      <td>0</td>\n",
       "      <td>0</td>\n",
       "      <td>0</td>\n",
       "      <td>0</td>\n",
       "      <td>0</td>\n",
       "      <td>0</td>\n",
       "      <td>0</td>\n",
       "      <td>0</td>\n",
       "      <td>0</td>\n",
       "      <td>0</td>\n",
       "      <td>...</td>\n",
       "      <td>0</td>\n",
       "      <td>0</td>\n",
       "      <td>0</td>\n",
       "      <td>0</td>\n",
       "      <td>0</td>\n",
       "      <td>0</td>\n",
       "      <td>0</td>\n",
       "      <td>0</td>\n",
       "      <td>0</td>\n",
       "      <td>0</td>\n",
       "    </tr>\n",
       "    <tr>\n",
       "      <th>2017-01-19</th>\n",
       "      <td>0</td>\n",
       "      <td>0</td>\n",
       "      <td>0</td>\n",
       "      <td>0</td>\n",
       "      <td>0</td>\n",
       "      <td>0</td>\n",
       "      <td>0</td>\n",
       "      <td>0</td>\n",
       "      <td>0</td>\n",
       "      <td>0</td>\n",
       "      <td>...</td>\n",
       "      <td>0</td>\n",
       "      <td>0</td>\n",
       "      <td>0</td>\n",
       "      <td>0</td>\n",
       "      <td>0</td>\n",
       "      <td>0</td>\n",
       "      <td>0</td>\n",
       "      <td>0</td>\n",
       "      <td>0</td>\n",
       "      <td>0</td>\n",
       "    </tr>\n",
       "  </tbody>\n",
       "</table>\n",
       "<p>3 rows × 29 columns</p>\n",
       "</div>"
      ],
      "text/plain": [
       "            10-K  10-K405  10-Q  424B2  424B3  424B5  8-A12B  8-K  CERTNYS  \\\n",
       "Date                                                                         \n",
       "2017-01-06     0        0     0      0      0      0       0    1        0   \n",
       "2017-01-06     0        0     0      0      0      0       0    0        0   \n",
       "2017-01-19     0        0     0      0      0      0       0    0        0   \n",
       "\n",
       "            CORRESP   ...    PX14A6G  S-3  S-3ASR  S-4  S-8  SC 13D  SC 13G  \\\n",
       "Date                  ...                                                     \n",
       "2017-01-06        0   ...          0    0       0    0    0       0       0   \n",
       "2017-01-06        0   ...          0    0       0    0    0       0       0   \n",
       "2017-01-19        0   ...          0    0       0    0    0       0       0   \n",
       "\n",
       "            SC TO-I  SD  UPLOAD  \n",
       "Date                             \n",
       "2017-01-06        0   0       0  \n",
       "2017-01-06        0   0       0  \n",
       "2017-01-19        0   0       0  \n",
       "\n",
       "[3 rows x 29 columns]"
      ]
     },
     "execution_count": 12,
     "metadata": {},
     "output_type": "execute_result"
    }
   ],
   "source": [
    "X_test = file_importer(company_name, 'SEC_X_Test')\n",
    "X_test.drop('document_type', 1, inplace=True)\n",
    "X_test.head(3)"
   ]
  },
  {
   "cell_type": "markdown",
   "metadata": {},
   "source": [
    "---------\n",
    "\n",
    "### Splitting the the Label:\n",
    "- The label will be split into a training and dataset to validate our models."
   ]
  },
  {
   "cell_type": "code",
   "execution_count": 13,
   "metadata": {},
   "outputs": [],
   "source": [
    "y_train = new_df[X_train.index[0] : X_train.index[-1]].Target.values"
   ]
  },
  {
   "cell_type": "code",
   "execution_count": 14,
   "metadata": {},
   "outputs": [],
   "source": [
    "y_test = new_df[X_test.index[0] : X_test.index[-1]].Target.values"
   ]
  },
  {
   "cell_type": "markdown",
   "metadata": {},
   "source": [
    "-----\n",
    "<a class=\"anchor\" id=\"RFC\"></a>\n",
    "\n",
    "\n",
    "# Random Forest Classification Model\n",
    "- **Random Forest:** is a meta estimator that trains a number of decision tree classifiers on various sub-samples of the dataset and uses the average to improve the predictive accuracy and control over-fitting. \n",
    "\n",
    "### Setting up the Random Forest (RF) Classification:\n",
    "- **Parameters:**\n",
    "    - Number of Estimators is the maximum number of trees in the forest, which has been set to 100.\n",
    "    - Maximum depth is how deep the forest will be, or how many levels in the decision tree. This parameter was set to 15.\n",
    "    - Minimum leaf samples is the minimum number of values in a given node (leaf), which has been set to 3\n",
    "    - Bootstrapping will use subsamples with replacement, which has been set as True.\n",
    "        - Bootstrapping has been set as True simply because I read a book on financial modeling that recommended it.\n",
    "    - Balanced Subsample mode will compute weights based on the bootstrap sample for every tree grown."
   ]
  },
  {
   "cell_type": "code",
   "execution_count": 23,
   "metadata": {},
   "outputs": [],
   "source": [
    "rf = RandomForestClassifier(n_estimators=100, criterion='entropy', \n",
    "                            max_depth=15, min_samples_leaf=3, bootstrap=True, \n",
    "                            n_jobs=3, random_state=42, class_weight='balanced_subsample')"
   ]
  },
  {
   "cell_type": "markdown",
   "metadata": {},
   "source": [
    "### Training the Data with the RF Model:"
   ]
  },
  {
   "cell_type": "code",
   "execution_count": 24,
   "metadata": {},
   "outputs": [
    {
     "data": {
      "text/plain": [
       "RandomForestClassifier(bootstrap=True, class_weight='balanced_subsample',\n",
       "            criterion='entropy', max_depth=15, max_features='auto',\n",
       "            max_leaf_nodes=None, min_impurity_decrease=0.0,\n",
       "            min_impurity_split=None, min_samples_leaf=3,\n",
       "            min_samples_split=2, min_weight_fraction_leaf=0.0,\n",
       "            n_estimators=100, n_jobs=3, oob_score=False, random_state=42,\n",
       "            verbose=0, warm_start=False)"
      ]
     },
     "execution_count": 24,
     "metadata": {},
     "output_type": "execute_result"
    }
   ],
   "source": [
    "rf.fit(X_train, y_train)"
   ]
  },
  {
   "cell_type": "markdown",
   "metadata": {},
   "source": [
    "### Scoring the Train and Test Set:\n",
    "\n",
    "**Evaluation:**\n",
    "- The model seems to perform fairly well around baseline.\n",
    "- Overfit: The score on the training dataset outperforms the testing score."
   ]
  },
  {
   "cell_type": "code",
   "execution_count": 25,
   "metadata": {},
   "outputs": [
    {
     "data": {
      "text/plain": [
       "0.5777351247600768"
      ]
     },
     "execution_count": 25,
     "metadata": {},
     "output_type": "execute_result"
    }
   ],
   "source": [
    "rf.score(X_train, y_train)"
   ]
  },
  {
   "cell_type": "code",
   "execution_count": 29,
   "metadata": {},
   "outputs": [
    {
     "data": {
      "text/plain": [
       "0.46551724137931033"
      ]
     },
     "execution_count": 29,
     "metadata": {},
     "output_type": "execute_result"
    }
   ],
   "source": [
    "rf.score(X_test, y_test)"
   ]
  },
  {
   "cell_type": "markdown",
   "metadata": {},
   "source": [
    "### Inspecting the Average Prediction:"
   ]
  },
  {
   "cell_type": "code",
   "execution_count": 30,
   "metadata": {},
   "outputs": [
    {
     "data": {
      "text/plain": [
       "0.603448275862069"
      ]
     },
     "execution_count": 30,
     "metadata": {},
     "output_type": "execute_result"
    }
   ],
   "source": [
    "y_test.mean()"
   ]
  },
  {
   "cell_type": "code",
   "execution_count": 31,
   "metadata": {
    "scrolled": true
   },
   "outputs": [
    {
     "data": {
      "text/plain": [
       "0.5172413793103449"
      ]
     },
     "execution_count": 31,
     "metadata": {},
     "output_type": "execute_result"
    }
   ],
   "source": [
    "rf.predict(X_test).mean()"
   ]
  },
  {
   "cell_type": "markdown",
   "metadata": {},
   "source": [
    "-------\n",
    "<a class=\"anchor\" id=\"Bagging\"></a>\n",
    "\n",
    "# Bagging Classification Model using Random Forest:\n",
    "\n",
    "- **Bagging Classifier:** is an ensemble meta-estimator that fits base classifiers each on random subsets of the original dataset, and, then, aggregates the individual predictions by either voting or by averaging to perform a final prediction. \n",
    "- Bagging is a method often used to reduce variance in a decision tree estimator by introducing randomization into its construction procedure and then making an ensemble out of it.\n",
    "\n",
    "**Parameters:**\n",
    "- The base estimator is the estimator, or model, to be fit (trained) on random subsets of the dataset. A Random Forest estimator will be the base for this model.\n",
    "- Number of Estimators is the maximum number of trees in the forest, which has been set to 100.\n",
    "- The Maximum Number of features will limit the amount of features used in the model to reduce variance. This has been set to 1.0."
   ]
  },
  {
   "cell_type": "code",
   "execution_count": 32,
   "metadata": {},
   "outputs": [],
   "source": [
    "bc = BaggingClassifier(base_estimator=rf, n_estimators=100, \n",
    "                   max_features=1.0, n_jobs=3, random_state=42)"
   ]
  },
  {
   "cell_type": "markdown",
   "metadata": {},
   "source": [
    "### Fitting the Data with the Bagging Classification:"
   ]
  },
  {
   "cell_type": "code",
   "execution_count": 33,
   "metadata": {},
   "outputs": [
    {
     "data": {
      "text/plain": [
       "BaggingClassifier(base_estimator=RandomForestClassifier(bootstrap=True, class_weight='balanced_subsample',\n",
       "            criterion='entropy', max_depth=15, max_features='auto',\n",
       "            max_leaf_nodes=None, min_impurity_decrease=0.0,\n",
       "            min_impurity_split=None, min_samples_leaf=3,\n",
       "            min_samples_split=2, min_weight_fraction_leaf=0.0,\n",
       "            n_estimators=100, n_jobs=3, oob_score=False, random_state=42,\n",
       "            verbose=0, warm_start=False),\n",
       "         bootstrap=True, bootstrap_features=False, max_features=1.0,\n",
       "         max_samples=1.0, n_estimators=100, n_jobs=3, oob_score=False,\n",
       "         random_state=42, verbose=0, warm_start=False)"
      ]
     },
     "execution_count": 33,
     "metadata": {},
     "output_type": "execute_result"
    }
   ],
   "source": [
    "bc.fit(X_train, y_train)"
   ]
  },
  {
   "cell_type": "markdown",
   "metadata": {},
   "source": [
    "### Scoring the Train and Test Set:\n",
    "\n",
    "**Evaluation:**\n",
    "- This model perform fairly well.\n",
    "- Still relatively overfit as the train score out performs the test scores."
   ]
  },
  {
   "cell_type": "code",
   "execution_count": 34,
   "metadata": {},
   "outputs": [
    {
     "data": {
      "text/plain": [
       "0.5758157389635317"
      ]
     },
     "execution_count": 34,
     "metadata": {},
     "output_type": "execute_result"
    }
   ],
   "source": [
    "bc.score(X_train, y_train)"
   ]
  },
  {
   "cell_type": "code",
   "execution_count": 35,
   "metadata": {},
   "outputs": [
    {
     "data": {
      "text/plain": [
       "0.43103448275862066"
      ]
     },
     "execution_count": 35,
     "metadata": {},
     "output_type": "execute_result"
    }
   ],
   "source": [
    "bc.score(X_test, y_test)"
   ]
  },
  {
   "cell_type": "markdown",
   "metadata": {},
   "source": [
    "### Inspecting the Average Prediction:"
   ]
  },
  {
   "cell_type": "code",
   "execution_count": 36,
   "metadata": {},
   "outputs": [
    {
     "data": {
      "text/plain": [
       "0.603448275862069"
      ]
     },
     "execution_count": 36,
     "metadata": {},
     "output_type": "execute_result"
    }
   ],
   "source": [
    "y_test.mean()"
   ]
  },
  {
   "cell_type": "code",
   "execution_count": 37,
   "metadata": {},
   "outputs": [
    {
     "data": {
      "text/plain": [
       "0.3793103448275862"
      ]
     },
     "execution_count": 37,
     "metadata": {},
     "output_type": "execute_result"
    }
   ],
   "source": [
    "bc.predict(X_test).mean()"
   ]
  },
  {
   "cell_type": "markdown",
   "metadata": {},
   "source": [
    "-----\n",
    "<a class=\"anchor\" id=\"Gridsearch\"></a>\n",
    "\n",
    "\n",
    "# Grid Searching\n",
    "\n",
    "- **Pipelines:** allow sequences of data to be transformed and chained together in a sequential manner, which will culminate in a model. \n",
    "\n",
    "- **GridSearch:** is an exhaustive search over specified parameter values for an estimator, which will allow the model to be tuned to perform better.\n",
    "\n",
    "### Pipeline for the Model:\n",
    "- Principal Component Analysis (PCA). \n",
    "- Random Forest Estimator.\n",
    "\n",
    "\n",
    "### Decomposing Signal Components with Principal Component Analysis (PCA):\n",
    "\n",
    "Sometimes, centering and scaling the features independently is not enough, since a downstream model can further make some assumption on the linear independence of the features.\n",
    "\n",
    "To address this issue, **Principal Component Analysis** (PCA) is used to decompose signal components.\n",
    "\n",
    "- **Principal Component Analysis**: reduces linear dimensionality using Singular Value Decomposition (SVD) of the data to project it to a lower dimensional space.\n"
   ]
  },
  {
   "cell_type": "markdown",
   "metadata": {},
   "source": [
    "### Establishing the Pipeline:"
   ]
  },
  {
   "cell_type": "code",
   "execution_count": 48,
   "metadata": {},
   "outputs": [],
   "source": [
    "pipe = Pipeline([\n",
    "    ('pca', PCA(random_state=42)),\n",
    "    ('rf', RandomForestClassifier(random_state=42))\n",
    "])"
   ]
  },
  {
   "cell_type": "markdown",
   "metadata": {},
   "source": [
    "### Establishing Parameters:"
   ]
  },
  {
   "cell_type": "code",
   "execution_count": 49,
   "metadata": {},
   "outputs": [],
   "source": [
    "# Number of trees in random forest\n",
    "n_estimators = [int(x) for x in range(2, 16, 2)]\n",
    "\n",
    "# Maximum number of levels in tree\n",
    "max_depth = [int(x) for x in range(6, 18, 2)]\n",
    "\n",
    "# Minimum number of samples required to split a node\n",
    "min_samples_split = [int(x) for x in range(2, 12, 2)]\n",
    "\n",
    "# Minimum number of samples required at each leaf node\n",
    "min_samples_leaf = [int(x) for x in range(2, 10, 3)]\n",
    "\n",
    "# Method of selecting samples for training each tree\n",
    "bootstrap = False\n",
    "\n",
    "# PCA: Number of components to be used\n",
    "n_components = [int(x) for x in range(2, 10, 3)]\n",
    "\n",
    "# Evaluation Metric (Error Function)\n",
    "criterion = ['entropy']"
   ]
  },
  {
   "cell_type": "markdown",
   "metadata": {},
   "source": [
    "### Setting the Parameters for the GridSearch Model:"
   ]
  },
  {
   "cell_type": "code",
   "execution_count": 50,
   "metadata": {},
   "outputs": [
    {
     "name": "stdout",
     "output_type": "stream",
     "text": [
      "{'pca__n_components': [2, 5, 8], 'rf__criterion': ['entropy'], 'rf__n_estimators': [2, 4, 6, 8, 10, 12, 14], 'rf__max_depth': [6, 8, 10, 12, 14, 16], 'rf__min_samples_split': [2, 4, 6, 8, 10], 'rf__min_samples_leaf': [2, 5, 8]}\n"
     ]
    }
   ],
   "source": [
    "params = {'pca__n_components': n_components,\n",
    "          'rf__criterion' : criterion,\n",
    "           'rf__n_estimators': n_estimators,\n",
    "           'rf__max_depth': max_depth,\n",
    "           'rf__min_samples_split': min_samples_split,\n",
    "           'rf__min_samples_leaf': min_samples_leaf\n",
    "         }\n",
    "print(params)"
   ]
  },
  {
   "cell_type": "markdown",
   "metadata": {},
   "source": [
    "### Setting up a Custom Cross Validation for Sequential Data:\n",
    "Since the nature of the dataset is sequential, a cross validation will not be efficient for this model since we do not want any subsample to be validated on a historical time period.\n",
    "\n",
    "- **Time Series Split:** provides train/test indices to split time series data samples that are observed at fixed time intervals, in train/test sets. In each split, test indices must be higher than before, and thus shuffling in cross validator is inappropriate.\n",
    "\n",
    "- Number of splits: 5 \n",
    "\n",
    "### Instantiating the Time Series Split:"
   ]
  },
  {
   "cell_type": "code",
   "execution_count": 51,
   "metadata": {},
   "outputs": [],
   "source": [
    "time_cv = TimeSeriesSplit(n_splits=5).split(X_train)"
   ]
  },
  {
   "cell_type": "markdown",
   "metadata": {},
   "source": [
    "### GridSearching the Model:"
   ]
  },
  {
   "cell_type": "code",
   "execution_count": 52,
   "metadata": {},
   "outputs": [],
   "source": [
    "rf_search = GridSearchCV(pipe, params, n_jobs=3, cv=time_cv)"
   ]
  },
  {
   "cell_type": "markdown",
   "metadata": {},
   "source": [
    "### Training the Model using the GridSearch Parameters:"
   ]
  },
  {
   "cell_type": "code",
   "execution_count": 53,
   "metadata": {},
   "outputs": [
    {
     "data": {
      "text/plain": [
       "GridSearchCV(cv=<generator object TimeSeriesSplit.split at 0x119f66938>,\n",
       "       error_score='raise',\n",
       "       estimator=Pipeline(memory=None,\n",
       "     steps=[('pca', PCA(copy=True, iterated_power='auto', n_components=None, random_state=42,\n",
       "  svd_solver='auto', tol=0.0, whiten=False)), ('rf', RandomForestClassifier(bootstrap=True, class_weight=None, criterion='gini',\n",
       "            max_depth=None, max_features='auto', max_leaf_nodes=None,\n",
       "            ...stimators=10, n_jobs=1,\n",
       "            oob_score=False, random_state=42, verbose=0, warm_start=False))]),\n",
       "       fit_params=None, iid=True, n_jobs=3,\n",
       "       param_grid={'pca__n_components': [2, 5, 8], 'rf__criterion': ['entropy'], 'rf__n_estimators': [2, 4, 6, 8, 10, 12, 14], 'rf__max_depth': [6, 8, 10, 12, 14, 16], 'rf__min_samples_split': [2, 4, 6, 8, 10], 'rf__min_samples_leaf': [2, 5, 8]},\n",
       "       pre_dispatch='2*n_jobs', refit=True, return_train_score='warn',\n",
       "       scoring=None, verbose=0)"
      ]
     },
     "execution_count": 53,
     "metadata": {},
     "output_type": "execute_result"
    }
   ],
   "source": [
    "rf_search.fit(X_train, y_train)"
   ]
  },
  {
   "cell_type": "markdown",
   "metadata": {},
   "source": [
    "### Scoring the Train and Test Set:\n",
    "- This model seems to also be overfit, but the test scores did improve."
   ]
  },
  {
   "cell_type": "code",
   "execution_count": 54,
   "metadata": {},
   "outputs": [
    {
     "data": {
      "text/plain": [
       "0.54510556621881"
      ]
     },
     "execution_count": 54,
     "metadata": {},
     "output_type": "execute_result"
    }
   ],
   "source": [
    "rf_search.score(X_train, y_train)"
   ]
  },
  {
   "cell_type": "code",
   "execution_count": 55,
   "metadata": {},
   "outputs": [
    {
     "data": {
      "text/plain": [
       "0.5172413793103449"
      ]
     },
     "execution_count": 55,
     "metadata": {},
     "output_type": "execute_result"
    }
   ],
   "source": [
    "rf_search.score(X_test, y_test)"
   ]
  },
  {
   "cell_type": "markdown",
   "metadata": {},
   "source": [
    "### Looking at the Best Parameters:"
   ]
  },
  {
   "cell_type": "code",
   "execution_count": 56,
   "metadata": {},
   "outputs": [
    {
     "data": {
      "text/plain": [
       "{'bootstrap': True,\n",
       " 'class_weight': None,\n",
       " 'criterion': 'entropy',\n",
       " 'max_depth': 6,\n",
       " 'max_features': 'auto',\n",
       " 'max_leaf_nodes': None,\n",
       " 'min_impurity_decrease': 0.0,\n",
       " 'min_impurity_split': None,\n",
       " 'min_samples_leaf': 8,\n",
       " 'min_samples_split': 2,\n",
       " 'min_weight_fraction_leaf': 0.0,\n",
       " 'n_estimators': 2,\n",
       " 'n_jobs': 1,\n",
       " 'oob_score': False,\n",
       " 'random_state': 42,\n",
       " 'verbose': 0,\n",
       " 'warm_start': False}"
      ]
     },
     "execution_count": 56,
     "metadata": {},
     "output_type": "execute_result"
    }
   ],
   "source": [
    "rf_search.best_estimator_.named_steps['rf'].get_params()"
   ]
  },
  {
   "cell_type": "markdown",
   "metadata": {},
   "source": [
    "### Taking a Look at the Important Features:"
   ]
  },
  {
   "cell_type": "code",
   "execution_count": 57,
   "metadata": {
    "scrolled": true
   },
   "outputs": [
    {
     "data": {
      "text/html": [
       "<div>\n",
       "<style scoped>\n",
       "    .dataframe tbody tr th:only-of-type {\n",
       "        vertical-align: middle;\n",
       "    }\n",
       "\n",
       "    .dataframe tbody tr th {\n",
       "        vertical-align: top;\n",
       "    }\n",
       "\n",
       "    .dataframe thead th {\n",
       "        text-align: right;\n",
       "    }\n",
       "</style>\n",
       "<table border=\"1\" class=\"dataframe\">\n",
       "  <thead>\n",
       "    <tr style=\"text-align: right;\">\n",
       "      <th></th>\n",
       "      <th>0</th>\n",
       "    </tr>\n",
       "  </thead>\n",
       "  <tbody>\n",
       "    <tr>\n",
       "      <th>10-Q</th>\n",
       "      <td>0.239136</td>\n",
       "    </tr>\n",
       "    <tr>\n",
       "      <th>424B3</th>\n",
       "      <td>0.180925</td>\n",
       "    </tr>\n",
       "    <tr>\n",
       "      <th>8-A12B</th>\n",
       "      <td>0.177197</td>\n",
       "    </tr>\n",
       "    <tr>\n",
       "      <th>10-K405</th>\n",
       "      <td>0.123888</td>\n",
       "    </tr>\n",
       "    <tr>\n",
       "      <th>10-K</th>\n",
       "      <td>0.119019</td>\n",
       "    </tr>\n",
       "    <tr>\n",
       "      <th>424B5</th>\n",
       "      <td>0.110845</td>\n",
       "    </tr>\n",
       "    <tr>\n",
       "      <th>424B2</th>\n",
       "      <td>0.048990</td>\n",
       "    </tr>\n",
       "    <tr>\n",
       "      <th>8-K</th>\n",
       "      <td>0.000000</td>\n",
       "    </tr>\n",
       "  </tbody>\n",
       "</table>\n",
       "</div>"
      ],
      "text/plain": [
       "                0\n",
       "10-Q     0.239136\n",
       "424B3    0.180925\n",
       "8-A12B   0.177197\n",
       "10-K405  0.123888\n",
       "10-K     0.119019\n",
       "424B5    0.110845\n",
       "424B2    0.048990\n",
       "8-K      0.000000"
      ]
     },
     "execution_count": 57,
     "metadata": {},
     "output_type": "execute_result"
    }
   ],
   "source": [
    "feature_importance = pd.DataFrame(rf_search.best_estimator_.named_steps['rf']\\\n",
    "                                  .feature_importances_, index=X_train.columns[:8])\\\n",
    "                                  .sort_values(0, ascending=False).sort_values(0,ascending=False)\n",
    "feature_importance"
   ]
  },
  {
   "cell_type": "markdown",
   "metadata": {},
   "source": [
    "---------\n",
    "<a class=\"anchor\" id=\"Gridsearch2\"></a>\n",
    "\n",
    "# GridSearching a Bagging Classifier\n",
    "\n",
    "\n",
    "### Pipeline:\n",
    "- Principle Component Analysis (PCA).\n",
    "- Bagging Classifier with a Random Forest as the base estimator."
   ]
  },
  {
   "cell_type": "code",
   "execution_count": 62,
   "metadata": {},
   "outputs": [],
   "source": [
    "pipe2 = Pipeline([\n",
    "    ('pca', PCA(random_state=42)),\n",
    "    ('br', BaggingClassifier(random_state=42))\n",
    "])"
   ]
  },
  {
   "cell_type": "markdown",
   "metadata": {},
   "source": [
    "### Establishing Parameters:"
   ]
  },
  {
   "cell_type": "code",
   "execution_count": 63,
   "metadata": {},
   "outputs": [],
   "source": [
    "# Number of trees in random forest\n",
    "n_estimators = [int(x) for x in range(5, 100, 20)]\n",
    "\n",
    "# Maximum number of levels in tree\n",
    "max_features = [x for x in np.linspace(.10, 1, 5)]\n",
    "\n",
    "# PCA: Number of components to be used\n",
    "n_components = [int(x) for x in range(2, 10, 3)]\n",
    "\n",
    "# Evaluation Metric (Error Function)\n",
    "criterion = ['entropy']"
   ]
  },
  {
   "cell_type": "markdown",
   "metadata": {},
   "source": [
    "### Setting the Parameters for the GridSearch Model:"
   ]
  },
  {
   "cell_type": "code",
   "execution_count": 64,
   "metadata": {},
   "outputs": [
    {
     "name": "stdout",
     "output_type": "stream",
     "text": [
      "{'br__n_estimators': [5, 25, 45, 65, 85], 'br__max_features': [0.1, 0.325, 0.55, 0.775, 1.0]}\n"
     ]
    }
   ],
   "source": [
    "params2 = {\n",
    "    'br__n_estimators' : n_estimators,\n",
    "    'br__max_features' : max_features,   \n",
    "}\n",
    "print(params2)"
   ]
  },
  {
   "cell_type": "markdown",
   "metadata": {},
   "source": [
    "### Setting up a Custom Cross Validation for Sequential Data:"
   ]
  },
  {
   "cell_type": "code",
   "execution_count": 65,
   "metadata": {},
   "outputs": [],
   "source": [
    "time_cv2 = TimeSeriesSplit(n_splits=4).split(X_train)"
   ]
  },
  {
   "cell_type": "markdown",
   "metadata": {},
   "source": [
    "### GridSearching the Bagging Classification Model:"
   ]
  },
  {
   "cell_type": "code",
   "execution_count": 66,
   "metadata": {},
   "outputs": [],
   "source": [
    "grid = GridSearchCV(pipe2, params2, n_jobs=3, cv=time_cv2)"
   ]
  },
  {
   "cell_type": "markdown",
   "metadata": {},
   "source": [
    "### Fitting the Training Set using GridSearch:"
   ]
  },
  {
   "cell_type": "code",
   "execution_count": 67,
   "metadata": {},
   "outputs": [
    {
     "data": {
      "text/plain": [
       "GridSearchCV(cv=<generator object TimeSeriesSplit.split at 0x119d50888>,\n",
       "       error_score='raise',\n",
       "       estimator=Pipeline(memory=None,\n",
       "     steps=[('pca', PCA(copy=True, iterated_power='auto', n_components=None, random_state=42,\n",
       "  svd_solver='auto', tol=0.0, whiten=False)), ('br', BaggingClassifier(base_estimator=None, bootstrap=True,\n",
       "         bootstrap_features=False, max_features=1.0, max_samples=1.0,\n",
       "         n_estimators=10, n_jobs=1, oob_score=False, random_state=42,\n",
       "         verbose=0, warm_start=False))]),\n",
       "       fit_params=None, iid=True, n_jobs=3,\n",
       "       param_grid={'br__n_estimators': [5, 25, 45, 65, 85], 'br__max_features': [0.1, 0.325, 0.55, 0.775, 1.0]},\n",
       "       pre_dispatch='2*n_jobs', refit=True, return_train_score='warn',\n",
       "       scoring=None, verbose=0)"
      ]
     },
     "execution_count": 67,
     "metadata": {},
     "output_type": "execute_result"
    }
   ],
   "source": [
    "grid.fit(X_train, y_train)"
   ]
  },
  {
   "cell_type": "markdown",
   "metadata": {},
   "source": [
    "### Scoring on the Training and Test Sets:\n",
    "**Evaluation:**\n",
    "- The model is still relatively overfit, but and performs worse than the Random Forest model that was GridSearched."
   ]
  },
  {
   "cell_type": "code",
   "execution_count": 68,
   "metadata": {
    "scrolled": true
   },
   "outputs": [
    {
     "data": {
      "text/plain": [
       "0.5834932821497121"
      ]
     },
     "execution_count": 68,
     "metadata": {},
     "output_type": "execute_result"
    }
   ],
   "source": [
    "grid.score(X_train, y_train)"
   ]
  },
  {
   "cell_type": "code",
   "execution_count": 69,
   "metadata": {},
   "outputs": [
    {
     "data": {
      "text/plain": [
       "0.43103448275862066"
      ]
     },
     "execution_count": 69,
     "metadata": {},
     "output_type": "execute_result"
    }
   ],
   "source": [
    "grid.score(X_test, y_test)"
   ]
  },
  {
   "cell_type": "markdown",
   "metadata": {},
   "source": [
    "### Taking a Look at the Best Parameters:"
   ]
  },
  {
   "cell_type": "code",
   "execution_count": 70,
   "metadata": {
    "scrolled": true
   },
   "outputs": [
    {
     "data": {
      "text/plain": [
       "{'base_estimator': None,\n",
       " 'bootstrap': True,\n",
       " 'bootstrap_features': False,\n",
       " 'max_features': 0.55,\n",
       " 'max_samples': 1.0,\n",
       " 'n_estimators': 45,\n",
       " 'n_jobs': 1,\n",
       " 'oob_score': False,\n",
       " 'random_state': 42,\n",
       " 'verbose': 0,\n",
       " 'warm_start': False}"
      ]
     },
     "execution_count": 70,
     "metadata": {},
     "output_type": "execute_result"
    }
   ],
   "source": [
    "grid.best_estimator_.named_steps['br'].get_params()"
   ]
  }
 ],
 "metadata": {
  "kernelspec": {
   "display_name": "Python 3",
   "language": "python",
   "name": "python3"
  },
  "language_info": {
   "codemirror_mode": {
    "name": "ipython",
    "version": 3
   },
   "file_extension": ".py",
   "mimetype": "text/x-python",
   "name": "python",
   "nbconvert_exporter": "python",
   "pygments_lexer": "ipython3",
   "version": "3.6.5"
  },
  "toc": {
   "base_numbering": 1,
   "nav_menu": {},
   "number_sections": false,
   "sideBar": false,
   "skip_h1_title": false,
   "title_cell": "Table of Contents",
   "title_sidebar": "Contents",
   "toc_cell": false,
   "toc_position": {},
   "toc_section_display": false,
   "toc_window_display": false
  }
 },
 "nbformat": 4,
 "nbformat_minor": 2
}
