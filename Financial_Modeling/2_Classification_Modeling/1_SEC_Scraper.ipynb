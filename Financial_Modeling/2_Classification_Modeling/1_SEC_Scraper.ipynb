{
 "cells": [
  {
   "cell_type": "markdown",
   "metadata": {},
   "source": [
    "# Scrapping the SEC for Document Filings\n",
    "\n",
    "### Notebook Index:\n",
    "\n",
    "- [Establishing Contact with the SEC Website](#Website)\n",
    "- [Scraper Function](#Scraper)\n",
    "- [Scraping the SEC](#Scraping)\n",
    "\n",
    "-----\n",
    "\n",
    "## Importing Libraries:"
   ]
  },
  {
   "cell_type": "code",
   "execution_count": 1,
   "metadata": {},
   "outputs": [],
   "source": [
    "import requests\n",
    "import json\n",
    "\n",
    "import pandas as pd\n",
    "import numpy as np\n",
    "\n",
    "from bs4 import BeautifulSoup\n",
    "from scrapy import Selector"
   ]
  },
  {
   "cell_type": "markdown",
   "metadata": {},
   "source": [
    "-----\n",
    "<a class=\"anchor\" id=\"Website\"></a>\n",
    "\n",
    "## Establishing Contact with the SEC:\n",
    "\n",
    "Specifically, contact any filing dealing with Apple, Inc (AAPL)."
   ]
  },
  {
   "cell_type": "code",
   "execution_count": 2,
   "metadata": {},
   "outputs": [],
   "source": [
    "url = 'https://www.sec.gov/cgi-bin/browse-edgar?CIK=AAPL&action=getcompany&owner=exclude'"
   ]
  },
  {
   "cell_type": "code",
   "execution_count": 3,
   "metadata": {},
   "outputs": [],
   "source": [
    "res = requests.get(url)"
   ]
  },
  {
   "cell_type": "markdown",
   "metadata": {},
   "source": [
    "### Checking the Status Code:\n",
    "\n",
    "A Description of `200` means the connection has been accepted and established. "
   ]
  },
  {
   "cell_type": "code",
   "execution_count": 4,
   "metadata": {},
   "outputs": [
    {
     "data": {
      "text/plain": [
       "200"
      ]
     },
     "execution_count": 4,
     "metadata": {},
     "output_type": "execute_result"
    }
   ],
   "source": [
    "res.status_code"
   ]
  },
  {
   "cell_type": "markdown",
   "metadata": {},
   "source": [
    "<a class=\"anchor\" id=\"Scraper\"></a>\n",
    "\n",
    "# Creating a Function to Scrape the SEC:"
   ]
  },
  {
   "cell_type": "code",
   "execution_count": 5,
   "metadata": {},
   "outputs": [],
   "source": [
    "def scraper(ticker):\n",
    "    \"\"\" \n",
    "    Returns the scraped Data from the SEC website corresponding to the company. \n",
    "    Additionally, the Date Column is converted to date time and placed as the index. \n",
    "    \n",
    "    Parameter\n",
    "    ----------\n",
    "    ticker : str\n",
    "        Passes the string with the company's ticker symbol.\n",
    "    \"\"\"\n",
    "    \n",
    "    collect = []\n",
    "    for page in range(0, 600, 40):\n",
    "        url = 'https://www.sec.gov/cgi-bin/browse-edgar?action=getcompany&CIK={}&type=&dateb=&owner=exclude&start={}&count=40'.format(ticker, page)        \n",
    "        res = requests.get(url)\n",
    "        html = res.text\n",
    "        # Creating a function to clean the json.\n",
    "        cleaner = lambda x: BeautifulSoup(x, 'lxml').get_text()\n",
    "        # Extracting the Document Type of each filing\n",
    "        docs = Selector(text=html).xpath(\"//table[@class='tableFile2']//td[1]\").extract()\n",
    "        documents = [cleaner(tag) for tag in docs]\n",
    "        # Extracting the Dates corresponding to the filings\n",
    "        date = Selector(text=html).xpath(\"//table[@class='tableFile2']//td[4]\").extract()\n",
    "        dates = [cleaner(day) for day in date]\n",
    "        # Extracting the filing number\n",
    "        nums = Selector(text=html).xpath(\"//table[@class='tableFile2']//td[5]\").extract()\n",
    "        numbers = [cleaner(num).strip() for num in nums]\n",
    "        # Extracting the Description of each filing\n",
    "        description = Selector(text=html).xpath(\"//table[@class='tableFile2']//td[@class='small']\").extract()\n",
    "        descriptions = [cleaner(descript).strip() for descript in description]\n",
    "        # Combining all features that were extracted\n",
    "        x = list(zip(documents, descriptions, dates, numbers))\n",
    "        collect.extend(x)\n",
    "    # Turing the features into a Pandas dataframe & setting the date as the index.\n",
    "    df = pd.DataFrame.from_records(collect, columns=['document_type','description', 'date', 'file_number'])       \n",
    "    df['date'] = pd.to_datetime(df.date, dayfirst=True);\n",
    "    df.set_index('date', inplace=True)\n",
    "    df.sort_index(inplace=True, ascending=True)\n",
    "    \n",
    "    return df"
   ]
  },
  {
   "cell_type": "markdown",
   "metadata": {},
   "source": [
    "------\n",
    "\n",
    "<a class=\"anchor\" id=\"Scraping\"></a>\n",
    "\n",
    "# Scraping the SEC:\n",
    "\n",
    "- Apple, Inc. - AAPL\n",
    "- Facebook, Inc. - FB\n",
    "- Google LLC - GOOGL\n",
    "- JPMorgan Chase & Co. - JPMorgan\n",
    "- The Goldman Sachs Group, Inc. - GoldmanSachs\n",
    "- Moody's Corporation - Moodys\n",
    "- The International Business Machines Corporation (IBM) - IBM\n",
    "- Twitter Inc. - Twitter\n",
    "- BlackRock, Inc. - BlackRock\n",
    "- Microsoft Corporation - Micrisoft"
   ]
  },
  {
   "cell_type": "code",
   "execution_count": 6,
   "metadata": {},
   "outputs": [],
   "source": [
    "company_name = 'JPMorgan'"
   ]
  },
  {
   "cell_type": "code",
   "execution_count": 7,
   "metadata": {},
   "outputs": [],
   "source": [
    "df = scraper('JPM')"
   ]
  },
  {
   "cell_type": "markdown",
   "metadata": {},
   "source": [
    "### Inspecting the Data:"
   ]
  },
  {
   "cell_type": "code",
   "execution_count": 8,
   "metadata": {},
   "outputs": [
    {
     "data": {
      "text/html": [
       "<div>\n",
       "<style scoped>\n",
       "    .dataframe tbody tr th:only-of-type {\n",
       "        vertical-align: middle;\n",
       "    }\n",
       "\n",
       "    .dataframe tbody tr th {\n",
       "        vertical-align: top;\n",
       "    }\n",
       "\n",
       "    .dataframe thead th {\n",
       "        text-align: right;\n",
       "    }\n",
       "</style>\n",
       "<table border=\"1\" class=\"dataframe\">\n",
       "  <thead>\n",
       "    <tr style=\"text-align: right;\">\n",
       "      <th></th>\n",
       "      <th>document_type</th>\n",
       "      <th>description</th>\n",
       "      <th>file_number</th>\n",
       "    </tr>\n",
       "    <tr>\n",
       "      <th>date</th>\n",
       "      <th></th>\n",
       "      <th></th>\n",
       "      <th></th>\n",
       "    </tr>\n",
       "  </thead>\n",
       "  <tbody>\n",
       "    <tr>\n",
       "      <th>2018-06-12</th>\n",
       "      <td>424B2</td>\n",
       "      <td>Prospectus [Rule 424(b)(2)]Acc-no: 0000950103-...</td>\n",
       "      <td>333-22267218893960</td>\n",
       "    </tr>\n",
       "    <tr>\n",
       "      <th>2018-06-12</th>\n",
       "      <td>424B2</td>\n",
       "      <td>Prospectus [Rule 424(b)(2)]Acc-no: 0001615774-...</td>\n",
       "      <td>333-22267218895296</td>\n",
       "    </tr>\n",
       "    <tr>\n",
       "      <th>2018-06-12</th>\n",
       "      <td>424B2</td>\n",
       "      <td>Prospectus [Rule 424(b)(2)]Acc-no: 0000891092-...</td>\n",
       "      <td>333-22267218894263</td>\n",
       "    </tr>\n",
       "    <tr>\n",
       "      <th>2018-06-12</th>\n",
       "      <td>424B2</td>\n",
       "      <td>Prospectus [Rule 424(b)(2)]Acc-no: 0001615774-...</td>\n",
       "      <td>333-22267218894207</td>\n",
       "    </tr>\n",
       "    <tr>\n",
       "      <th>2018-06-12</th>\n",
       "      <td>424B2</td>\n",
       "      <td>Prospectus [Rule 424(b)(2)]Acc-no: 0001615774-...</td>\n",
       "      <td>333-22267218893968</td>\n",
       "    </tr>\n",
       "  </tbody>\n",
       "</table>\n",
       "</div>"
      ],
      "text/plain": [
       "           document_type                                        description  \\\n",
       "date                                                                          \n",
       "2018-06-12         424B2  Prospectus [Rule 424(b)(2)]Acc-no: 0000950103-...   \n",
       "2018-06-12         424B2  Prospectus [Rule 424(b)(2)]Acc-no: 0001615774-...   \n",
       "2018-06-12         424B2  Prospectus [Rule 424(b)(2)]Acc-no: 0000891092-...   \n",
       "2018-06-12         424B2  Prospectus [Rule 424(b)(2)]Acc-no: 0001615774-...   \n",
       "2018-06-12         424B2  Prospectus [Rule 424(b)(2)]Acc-no: 0001615774-...   \n",
       "\n",
       "                   file_number  \n",
       "date                            \n",
       "2018-06-12  333-22267218893960  \n",
       "2018-06-12  333-22267218895296  \n",
       "2018-06-12  333-22267218894263  \n",
       "2018-06-12  333-22267218894207  \n",
       "2018-06-12  333-22267218893968  "
      ]
     },
     "execution_count": 8,
     "metadata": {},
     "output_type": "execute_result"
    }
   ],
   "source": [
    "df.head()"
   ]
  },
  {
   "cell_type": "code",
   "execution_count": 9,
   "metadata": {},
   "outputs": [
    {
     "data": {
      "text/html": [
       "<div>\n",
       "<style scoped>\n",
       "    .dataframe tbody tr th:only-of-type {\n",
       "        vertical-align: middle;\n",
       "    }\n",
       "\n",
       "    .dataframe tbody tr th {\n",
       "        vertical-align: top;\n",
       "    }\n",
       "\n",
       "    .dataframe thead th {\n",
       "        text-align: right;\n",
       "    }\n",
       "</style>\n",
       "<table border=\"1\" class=\"dataframe\">\n",
       "  <thead>\n",
       "    <tr style=\"text-align: right;\">\n",
       "      <th></th>\n",
       "      <th>document_type</th>\n",
       "      <th>description</th>\n",
       "      <th>file_number</th>\n",
       "    </tr>\n",
       "    <tr>\n",
       "      <th>date</th>\n",
       "      <th></th>\n",
       "      <th></th>\n",
       "      <th></th>\n",
       "    </tr>\n",
       "  </thead>\n",
       "  <tbody>\n",
       "    <tr>\n",
       "      <th>2018-07-27</th>\n",
       "      <td>424B2</td>\n",
       "      <td>Prospectus [Rule 424(b)(2)]Acc-no: 0001615774-...</td>\n",
       "      <td>333-22267218973978</td>\n",
       "    </tr>\n",
       "    <tr>\n",
       "      <th>2018-07-27</th>\n",
       "      <td>424B2</td>\n",
       "      <td>Prospectus [Rule 424(b)(2)]Acc-no: 0000891092-...</td>\n",
       "      <td>333-22267218973571</td>\n",
       "    </tr>\n",
       "    <tr>\n",
       "      <th>2018-07-27</th>\n",
       "      <td>424B2</td>\n",
       "      <td>Prospectus [Rule 424(b)(2)]Acc-no: 0001615774-...</td>\n",
       "      <td>333-22267218972893</td>\n",
       "    </tr>\n",
       "    <tr>\n",
       "      <th>2018-07-27</th>\n",
       "      <td>424B2</td>\n",
       "      <td>Prospectus [Rule 424(b)(2)]Acc-no: 0001615774-...</td>\n",
       "      <td>333-22267218974543</td>\n",
       "    </tr>\n",
       "    <tr>\n",
       "      <th>2018-07-27</th>\n",
       "      <td>424B2</td>\n",
       "      <td>Prospectus [Rule 424(b)(2)]Acc-no: 0001615774-...</td>\n",
       "      <td>333-22267218975317</td>\n",
       "    </tr>\n",
       "  </tbody>\n",
       "</table>\n",
       "</div>"
      ],
      "text/plain": [
       "           document_type                                        description  \\\n",
       "date                                                                          \n",
       "2018-07-27         424B2  Prospectus [Rule 424(b)(2)]Acc-no: 0001615774-...   \n",
       "2018-07-27         424B2  Prospectus [Rule 424(b)(2)]Acc-no: 0000891092-...   \n",
       "2018-07-27         424B2  Prospectus [Rule 424(b)(2)]Acc-no: 0001615774-...   \n",
       "2018-07-27         424B2  Prospectus [Rule 424(b)(2)]Acc-no: 0001615774-...   \n",
       "2018-07-27         424B2  Prospectus [Rule 424(b)(2)]Acc-no: 0001615774-...   \n",
       "\n",
       "                   file_number  \n",
       "date                            \n",
       "2018-07-27  333-22267218973978  \n",
       "2018-07-27  333-22267218973571  \n",
       "2018-07-27  333-22267218972893  \n",
       "2018-07-27  333-22267218974543  \n",
       "2018-07-27  333-22267218975317  "
      ]
     },
     "execution_count": 9,
     "metadata": {},
     "output_type": "execute_result"
    }
   ],
   "source": [
    "df.tail()"
   ]
  },
  {
   "cell_type": "markdown",
   "metadata": {},
   "source": [
    "-------------"
   ]
  },
  {
   "cell_type": "markdown",
   "metadata": {},
   "source": [
    "--------\n",
    "## Saving the data into a CSV:"
   ]
  },
  {
   "cell_type": "code",
   "execution_count": 10,
   "metadata": {},
   "outputs": [],
   "source": [
    "df.to_csv(f'data/{company_name}_SEC.csv', index=False)"
   ]
  }
 ],
 "metadata": {
  "kernelspec": {
   "display_name": "Python 3",
   "language": "python",
   "name": "python3"
  },
  "language_info": {
   "codemirror_mode": {
    "name": "ipython",
    "version": 3
   },
   "file_extension": ".py",
   "mimetype": "text/x-python",
   "name": "python",
   "nbconvert_exporter": "python",
   "pygments_lexer": "ipython3",
   "version": "3.6.5"
  }
 },
 "nbformat": 4,
 "nbformat_minor": 2
}
