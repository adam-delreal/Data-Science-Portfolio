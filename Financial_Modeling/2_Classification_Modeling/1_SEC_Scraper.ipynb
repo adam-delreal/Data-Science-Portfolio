{
 "cells": [
  {
   "cell_type": "markdown",
   "metadata": {},
   "source": [
    "# Scrapping the SEC for Document Filings\n",
    "\n",
    "### Index:\n",
    "\n",
    "- [Establishing Contact with the SEC Website](#Website)\n",
    "- [Scraper Function](#Scraper)\n",
    "- [Scraping the SEC](#Scraping)\n",
    "- [Inspecting the Data](#Data)\n",
    "\n",
    "-----\n",
    "\n",
    "## Importing Libraries:"
   ]
  },
  {
   "cell_type": "code",
   "execution_count": 1,
   "metadata": {},
   "outputs": [],
   "source": [
    "import requests\n",
    "import json\n",
    "\n",
    "import pandas as pd\n",
    "import numpy as np\n",
    "\n",
    "from bs4 import BeautifulSoup\n",
    "from scrapy import Selector"
   ]
  },
  {
   "cell_type": "markdown",
   "metadata": {},
   "source": [
    "-----\n",
    "<a class=\"anchor\" id=\"Website\"></a>\n",
    "\n",
    "## Establishing Contact with the SEC:\n",
    "\n",
    "Specifically, contact any filing dealing with Apple, Inc (AAPL)."
   ]
  },
  {
   "cell_type": "code",
   "execution_count": 2,
   "metadata": {},
   "outputs": [],
   "source": [
    "url = 'https://www.sec.gov/cgi-bin/browse-edgar?CIK=AAPL&action=getcompany&owner=exclude'"
   ]
  },
  {
   "cell_type": "code",
   "execution_count": 3,
   "metadata": {},
   "outputs": [],
   "source": [
    "res = requests.get(url)"
   ]
  },
  {
   "cell_type": "markdown",
   "metadata": {},
   "source": [
    "### Checking the Status Code:\n",
    "\n",
    "A Description of `200` means the connection has been accepted and established. "
   ]
  },
  {
   "cell_type": "code",
   "execution_count": 4,
   "metadata": {},
   "outputs": [
    {
     "data": {
      "text/plain": [
       "200"
      ]
     },
     "execution_count": 4,
     "metadata": {},
     "output_type": "execute_result"
    }
   ],
   "source": [
    "res.status_code"
   ]
  },
  {
   "cell_type": "markdown",
   "metadata": {},
   "source": [
    "<a class=\"anchor\" id=\"Scraper\"></a>\n",
    "\n",
    "# Creating a Function to Scrape the SEC:\n",
    "\n",
    "**The Following Function will:**\n",
    "- Accept a company's stock ticker and use the symbol to scrape data from the [SEC Website](https://www.sec.gov/).\n",
    "- Use the BeautifulSoup and Selector libraries to request & establish a connection with the website according to the company.\n",
    "- Clean the lxml text for every value extracted.\n",
    "- Will Extract (Scrape) the following specifications into a pandas dataframe:\n",
    "    - Document Filings\n",
    "    - Date Filed\n",
    "    - Filing Serial Number\n",
    "    - Filing Description\n",
    "- The Date will be converted into time, placed as the index, and sorted in ascending order."
   ]
  },
  {
   "cell_type": "code",
   "execution_count": 5,
   "metadata": {},
   "outputs": [],
   "source": [
    "def scraper(ticker):\n",
    "    \"\"\" \n",
    "    Returns the scraped Data from the SEC website corresponding to the company. \n",
    "    Additionally, the Date Column is converted to date time and placed as the index. \n",
    "    \n",
    "    Parameter\n",
    "    ----------\n",
    "    ticker : str\n",
    "        Passes the string with the company's ticker symbol.\n",
    "    \"\"\"\n",
    "    \n",
    "    collect = []\n",
    "    for page in range(0, 600, 40):\n",
    "        url = 'https://www.sec.gov/cgi-bin/browse-edgar?action=getcompany&CIK={}&type=&dateb=&owner=exclude&start={}&count=40'.format(ticker, page)        \n",
    "        res = requests.get(url)\n",
    "        html = res.text\n",
    "        # Creating a function to clean the json.\n",
    "        cleaner = lambda x: BeautifulSoup(x, 'lxml').get_text()\n",
    "        # Extracting the Document Type of each filing\n",
    "        docs = Selector(text=html).xpath(\"//table[@class='tableFile2']//td[1]\").extract()\n",
    "        documents = [cleaner(tag) for tag in docs]\n",
    "        # Extracting the Dates corresponding to the filings\n",
    "        date = Selector(text=html).xpath(\"//table[@class='tableFile2']//td[4]\").extract()\n",
    "        dates = [cleaner(day) for day in date]\n",
    "        # Extracting the filing number\n",
    "        nums = Selector(text=html).xpath(\"//table[@class='tableFile2']//td[5]\").extract()\n",
    "        numbers = [cleaner(num).strip() for num in nums]\n",
    "        # Extracting the Description of each filing\n",
    "        description = Selector(text=html).xpath(\"//table[@class='tableFile2']//td[@class='small']\").extract()\n",
    "        descriptions = [cleaner(descript).strip() for descript in description]\n",
    "        # Combining all features that were extracted\n",
    "        x = list(zip(documents, descriptions, dates, numbers))\n",
    "        collect.extend(x)\n",
    "    # Turing the features into a Pandas dataframe & setting the date as the index.\n",
    "    df = pd.DataFrame.from_records(collect, columns=['document_type','description', 'date', 'file_number'])       \n",
    "    df['date'] = pd.to_datetime(df.date, dayfirst=True);\n",
    "    df.set_index('date', inplace=True)\n",
    "    df.sort_index(inplace=True, ascending=True)\n",
    "    \n",
    "    return df"
   ]
  },
  {
   "cell_type": "markdown",
   "metadata": {},
   "source": [
    "------\n",
    "\n",
    "<a class=\"anchor\" id=\"Scraping\"></a>\n",
    "\n",
    "# Scraping the SEC:\n",
    "\n",
    "The following companies will be scraped:\n",
    "\n",
    "- Apple, Inc. - AAPL\n",
    "- Facebook, Inc. - FB\n",
    "- Google LLC - GOOGL\n",
    "- JPMorgan Chase & Co. - JPM\n",
    "- The Goldman Sachs Group, Inc. - GS\n",
    "- Moody's Corporation - MCO\n",
    "- The International Business Machines Corporation (IBM) - IBM\n",
    "- Twitter Inc. - TWTTR\n",
    "- BlackRock, Inc. - BLK\n",
    "- Microsoft Corporation - MSFT"
   ]
  },
  {
   "cell_type": "code",
   "execution_count": 11,
   "metadata": {},
   "outputs": [],
   "source": [
    "company_name = 'Apple'"
   ]
  },
  {
   "cell_type": "code",
   "execution_count": 12,
   "metadata": {},
   "outputs": [],
   "source": [
    "df = scraper('AAPL')"
   ]
  },
  {
   "cell_type": "markdown",
   "metadata": {},
   "source": [
    "-------\n",
    "<a class=\"anchor\" id=\"Data\"></a>\n",
    "\n",
    "# Inspecting the Data\n",
    "\n",
    "### Inspecting the Earliest Filing Scraped:"
   ]
  },
  {
   "cell_type": "code",
   "execution_count": 13,
   "metadata": {},
   "outputs": [
    {
     "data": {
      "text/html": [
       "<div>\n",
       "<style scoped>\n",
       "    .dataframe tbody tr th:only-of-type {\n",
       "        vertical-align: middle;\n",
       "    }\n",
       "\n",
       "    .dataframe tbody tr th {\n",
       "        vertical-align: top;\n",
       "    }\n",
       "\n",
       "    .dataframe thead th {\n",
       "        text-align: right;\n",
       "    }\n",
       "</style>\n",
       "<table border=\"1\" class=\"dataframe\">\n",
       "  <thead>\n",
       "    <tr style=\"text-align: right;\">\n",
       "      <th></th>\n",
       "      <th>document_type</th>\n",
       "      <th>description</th>\n",
       "      <th>file_number</th>\n",
       "    </tr>\n",
       "    <tr>\n",
       "      <th>date</th>\n",
       "      <th></th>\n",
       "      <th></th>\n",
       "      <th></th>\n",
       "    </tr>\n",
       "  </thead>\n",
       "  <tbody>\n",
       "    <tr>\n",
       "      <th>1994-01-26</th>\n",
       "      <td>424B5</td>\n",
       "      <td>Prospectus [Rule 424(b)(5)]Acc-no: 0000891618-...</td>\n",
       "      <td>033-6231094502696</td>\n",
       "    </tr>\n",
       "    <tr>\n",
       "      <th>1994-01-26</th>\n",
       "      <td>10-Q</td>\n",
       "      <td>Quarterly report [Sections 13 or 15(d)]Acc-no:...</td>\n",
       "      <td>000-1003094502732</td>\n",
       "    </tr>\n",
       "    <tr>\n",
       "      <th>1994-02-10</th>\n",
       "      <td>SC 13G/A</td>\n",
       "      <td>[Amend] Statement of acquisition of beneficial...</td>\n",
       "      <td>005-3363294505635</td>\n",
       "    </tr>\n",
       "    <tr>\n",
       "      <th>1994-02-17</th>\n",
       "      <td>SC 13G/A</td>\n",
       "      <td>[Amend] Statement of acquisition of beneficial...</td>\n",
       "      <td>005-3363294510471</td>\n",
       "    </tr>\n",
       "    <tr>\n",
       "      <th>1994-02-18</th>\n",
       "      <td>SC 13G</td>\n",
       "      <td>Statement of acquisition of beneficial ownersh...</td>\n",
       "      <td>005-3363200000000</td>\n",
       "    </tr>\n",
       "  </tbody>\n",
       "</table>\n",
       "</div>"
      ],
      "text/plain": [
       "           document_type                                        description  \\\n",
       "date                                                                          \n",
       "1994-01-26         424B5  Prospectus [Rule 424(b)(5)]Acc-no: 0000891618-...   \n",
       "1994-01-26          10-Q  Quarterly report [Sections 13 or 15(d)]Acc-no:...   \n",
       "1994-02-10      SC 13G/A  [Amend] Statement of acquisition of beneficial...   \n",
       "1994-02-17      SC 13G/A  [Amend] Statement of acquisition of beneficial...   \n",
       "1994-02-18        SC 13G  Statement of acquisition of beneficial ownersh...   \n",
       "\n",
       "                  file_number  \n",
       "date                           \n",
       "1994-01-26  033-6231094502696  \n",
       "1994-01-26  000-1003094502732  \n",
       "1994-02-10  005-3363294505635  \n",
       "1994-02-17  005-3363294510471  \n",
       "1994-02-18  005-3363200000000  "
      ]
     },
     "execution_count": 13,
     "metadata": {},
     "output_type": "execute_result"
    }
   ],
   "source": [
    "df.head()"
   ]
  },
  {
   "cell_type": "markdown",
   "metadata": {},
   "source": [
    "### Inspecting the Latest Filing Scraped:"
   ]
  },
  {
   "cell_type": "code",
   "execution_count": 14,
   "metadata": {},
   "outputs": [
    {
     "data": {
      "text/html": [
       "<div>\n",
       "<style scoped>\n",
       "    .dataframe tbody tr th:only-of-type {\n",
       "        vertical-align: middle;\n",
       "    }\n",
       "\n",
       "    .dataframe tbody tr th {\n",
       "        vertical-align: top;\n",
       "    }\n",
       "\n",
       "    .dataframe thead th {\n",
       "        text-align: right;\n",
       "    }\n",
       "</style>\n",
       "<table border=\"1\" class=\"dataframe\">\n",
       "  <thead>\n",
       "    <tr style=\"text-align: right;\">\n",
       "      <th></th>\n",
       "      <th>document_type</th>\n",
       "      <th>description</th>\n",
       "      <th>file_number</th>\n",
       "    </tr>\n",
       "    <tr>\n",
       "      <th>date</th>\n",
       "      <th></th>\n",
       "      <th></th>\n",
       "      <th></th>\n",
       "    </tr>\n",
       "  </thead>\n",
       "  <tbody>\n",
       "    <tr>\n",
       "      <th>2018-03-07</th>\n",
       "      <td>SD</td>\n",
       "      <td>Acc-no: 0001193125-18-073716 (34 Act)  Size: 8...</td>\n",
       "      <td>001-3674318674202</td>\n",
       "    </tr>\n",
       "    <tr>\n",
       "      <th>2018-05-01</th>\n",
       "      <td>8-K</td>\n",
       "      <td>Current report, items 2.02 and 9.01\\nAcc-no: 0...</td>\n",
       "      <td>001-3674318795935</td>\n",
       "    </tr>\n",
       "    <tr>\n",
       "      <th>2018-05-02</th>\n",
       "      <td>10-Q</td>\n",
       "      <td>Quarterly report [Sections 13 or 15(d)]Acc-no:...</td>\n",
       "      <td>001-3674318800115</td>\n",
       "    </tr>\n",
       "    <tr>\n",
       "      <th>2018-05-07</th>\n",
       "      <td>8-K</td>\n",
       "      <td>Current report, items 8.01 and 9.01\\nAcc-no: 0...</td>\n",
       "      <td>001-3674318811649</td>\n",
       "    </tr>\n",
       "    <tr>\n",
       "      <th>2018-05-08</th>\n",
       "      <td>8-K/A</td>\n",
       "      <td>[Amend] Current report, item 8.01\\nAcc-no: 000...</td>\n",
       "      <td>001-3674318812776</td>\n",
       "    </tr>\n",
       "  </tbody>\n",
       "</table>\n",
       "</div>"
      ],
      "text/plain": [
       "           document_type                                        description  \\\n",
       "date                                                                          \n",
       "2018-03-07            SD  Acc-no: 0001193125-18-073716 (34 Act)  Size: 8...   \n",
       "2018-05-01           8-K  Current report, items 2.02 and 9.01\\nAcc-no: 0...   \n",
       "2018-05-02          10-Q  Quarterly report [Sections 13 or 15(d)]Acc-no:...   \n",
       "2018-05-07           8-K  Current report, items 8.01 and 9.01\\nAcc-no: 0...   \n",
       "2018-05-08         8-K/A  [Amend] Current report, item 8.01\\nAcc-no: 000...   \n",
       "\n",
       "                  file_number  \n",
       "date                           \n",
       "2018-03-07  001-3674318674202  \n",
       "2018-05-01  001-3674318795935  \n",
       "2018-05-02  001-3674318800115  \n",
       "2018-05-07  001-3674318811649  \n",
       "2018-05-08  001-3674318812776  "
      ]
     },
     "execution_count": 14,
     "metadata": {},
     "output_type": "execute_result"
    }
   ],
   "source": [
    "df.tail()"
   ]
  },
  {
   "cell_type": "markdown",
   "metadata": {},
   "source": [
    "--------\n",
    "## Saving the data into a CSV:"
   ]
  },
  {
   "cell_type": "code",
   "execution_count": 10,
   "metadata": {},
   "outputs": [],
   "source": [
    "df.to_csv(f'data/{company_name}_SEC.csv', index=False)"
   ]
  }
 ],
 "metadata": {
  "kernelspec": {
   "display_name": "Python 3",
   "language": "python",
   "name": "python3"
  },
  "language_info": {
   "codemirror_mode": {
    "name": "ipython",
    "version": 3
   },
   "file_extension": ".py",
   "mimetype": "text/x-python",
   "name": "python",
   "nbconvert_exporter": "python",
   "pygments_lexer": "ipython3",
   "version": "3.6.5"
  }
 },
 "nbformat": 4,
 "nbformat_minor": 2
}
