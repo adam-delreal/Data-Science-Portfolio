{
 "cells": [
  {
   "cell_type": "markdown",
   "metadata": {},
   "source": [
    "# 03 Build Models"
   ]
  },
  {
   "cell_type": "markdown",
   "metadata": {},
   "source": [
    "## Imports"
   ]
  },
  {
   "cell_type": "markdown",
   "metadata": {},
   "source": [
    "* We want AUC ROC"
   ]
  },
  {
   "cell_type": "code",
   "execution_count": 5,
   "metadata": {},
   "outputs": [],
   "source": [
    "import pandas as pd\n",
    "import numpy as np\n",
    "import pickle\n",
    "\n",
    "from sklearn.linear_model import LogisticRegression\n",
    "from sklearn.model_selection import train_test_split\n",
    "from sklearn.metrics import confusion_matrix, roc_auc_score\n",
    "from sklearn.preprocessing import StandardScaler\n",
    "\n",
    "from keras.models import Sequential\n",
    "from keras.layers import Dense, Dropout\n",
    "from keras.utils import to_categorical\n",
    "from keras.optimizers import Adam\n",
    "\n",
    "import matplotlib.pyplot as plt\n",
    "import seaborn as sns\n",
    "%matplotlib inline"
   ]
  },
  {
   "cell_type": "markdown",
   "metadata": {},
   "source": [
    "# Functions"
   ]
  },
  {
   "cell_type": "code",
   "execution_count": 8,
   "metadata": {},
   "outputs": [],
   "source": [
    "def get_metrics(y_true, y_predict, print_scores = True):\n",
    "    matrix_def = [['tn','fp'], ['fn','tp']]\n",
    "    matrix = confusion_matrix(y_true, y_predict)\n",
    "    tn, fp, fn, tp = matrix.ravel()\n",
    "    accuracy = (tp+tn)/(tn+fp+fn+tp)\n",
    "    misclass = 1-accuracy\n",
    "    sensitivity = tp/(tp+fn)\n",
    "    specificity = tn/(tn+fp)\n",
    "    precision = tp/(tp+fp)\n",
    "    if print_scores:\n",
    "        print('Matrix Definition')\n",
    "        print(np.array(matrix_def))\n",
    "        print('')\n",
    "        print('Confusion Matrix')\n",
    "        print(matrix)\n",
    "        print('')\n",
    "        print('METRICS')\n",
    "        print('accuracy:', accuracy)\n",
    "        print('misclass:', misclass)\n",
    "        print('sensitivity:', sensitivity)\n",
    "        print('specificity:', specificity)\n",
    "        print('roc-auc:', roc_auc_score(y_true, y_predict))\n",
    "    else:\n",
    "        return accuracy, misclass, sensitivity, specificity, precision"
   ]
  },
  {
   "cell_type": "markdown",
   "metadata": {},
   "source": [
    "## Read in Train and Test Data"
   ]
  },
  {
   "cell_type": "code",
   "execution_count": 6,
   "metadata": {},
   "outputs": [],
   "source": [
    "with open('../Cleansed_Data/X_train_ss.pkl','rb') as f:\n",
    "    X_train_ss = pickle.load(f)\n",
    "    \n",
    "with open('../Cleansed_Data/X_test_ss.pkl','rb') as f:\n",
    "    X_test_ss = pickle.load(f)\n",
    "    \n",
    "with open('../Cleansed_Data/y_train.pkl','rb') as f:\n",
    "    y_train = pickle.load(f)\n",
    "    \n",
    "with open('../Cleansed_Data/y_test.pkl','rb') as f:\n",
    "    y_test = pickle.load(f)"
   ]
  },
  {
   "cell_type": "markdown",
   "metadata": {},
   "source": [
    "## Try Simple Logistic Regression"
   ]
  },
  {
   "cell_type": "code",
   "execution_count": 9,
   "metadata": {},
   "outputs": [
    {
     "name": "stdout",
     "output_type": "stream",
     "text": [
      "Matrix Definition\n",
      "[['tn' 'fp']\n",
      " ['fn' 'tp']]\n",
      "\n",
      "Confusion Matrix\n",
      "[[2484  132]\n",
      " [   5    6]]\n",
      "\n",
      "METRICS\n",
      "accuracy: 0.9478492577084127\n",
      "misclass: 0.05215074229158734\n",
      "sensitivity: 0.5454545454545454\n",
      "specificity: 0.9495412844036697\n",
      "roc-auc: 0.7474979149291076\n"
     ]
    }
   ],
   "source": [
    "lr = LogisticRegression()\n",
    "lr.fit(X_train_ss, y_train)\n",
    "lr.score(X_train_ss, y_train), lr.score(X_test_ss, y_test)\n",
    "\n",
    "get_metrics(lr.predict(X_test_ss), y_test)"
   ]
  },
  {
   "cell_type": "markdown",
   "metadata": {},
   "source": [
    "## Try Neural Net"
   ]
  },
  {
   "cell_type": "code",
   "execution_count": 10,
   "metadata": {},
   "outputs": [
    {
     "name": "stdout",
     "output_type": "stream",
     "text": [
      "35\n"
     ]
    }
   ],
   "source": [
    "# Check number of inputs\n",
    "print(X_train_ss.shape[1])\n",
    "layer1 = X_train_ss.shape[1]\n",
    "layer2 = 6"
   ]
  },
  {
   "cell_type": "code",
   "execution_count": 11,
   "metadata": {},
   "outputs": [],
   "source": [
    "model = Sequential()\n",
    "model.add(Dense(layer1, activation='relu', input_dim=X_train_ss.shape[1])) #Makes this dynamic\n",
    "model.add(Dropout(.2))\n",
    "model.add(Dense(layer2, activation='relu')) #Makes this dynamic\n",
    "model.add(Dense(1, activation=None))"
   ]
  },
  {
   "cell_type": "code",
   "execution_count": 12,
   "metadata": {},
   "outputs": [],
   "source": [
    "adam = Adam(lr=0.0001)\n",
    "model.compile(loss='mean_squared_error', optimizer=adam, metrics=['accuracy'])"
   ]
  },
  {
   "cell_type": "code",
   "execution_count": 13,
   "metadata": {},
   "outputs": [],
   "source": [
    "history = model.fit(X_train_ss, y_train, validation_data=(X_test_ss, y_test), epochs=70, batch_size=32, verbose=0)"
   ]
  },
  {
   "cell_type": "code",
   "execution_count": 14,
   "metadata": {},
   "outputs": [
    {
     "data": {
      "text/plain": [
       "<matplotlib.legend.Legend at 0x207138d7780>"
      ]
     },
     "execution_count": 14,
     "metadata": {},
     "output_type": "execute_result"
    },
    {
     "data": {
      "image/png": "[encoded data removed]",
      "text/plain": [
       "<Figure size 432x288 with 1 Axes>"
      ]
     },
     "metadata": {},
     "output_type": "display_data"
    }
   ],
   "source": [
    "plt.plot(history.history['loss'], label= 'Train Loss')\n",
    "plt.plot(history.history['val_loss'], label='Test Loss')\n",
    "\n",
    "plt.legend()"
   ]
  },
  {
   "cell_type": "code",
   "execution_count": 15,
   "metadata": {},
   "outputs": [
    {
     "data": {
      "text/plain": [
       "<matplotlib.legend.Legend at 0x2071393fa20>"
      ]
     },
     "execution_count": 15,
     "metadata": {},
     "output_type": "execute_result"
    },
    {
     "data": {
      "image/png": "[encoded data removed]",
      "text/plain": [
       "<Figure size 432x288 with 1 Axes>"
      ]
     },
     "metadata": {},
     "output_type": "display_data"
    }
   ],
   "source": [
    "plt.plot(history.history['acc'], label='Train Accuracy')\n",
    "plt.plot(history.history['val_acc'], label='Test Accuracy')\n",
    "plt.legend()"
   ]
  },
  {
   "cell_type": "code",
   "execution_count": 17,
   "metadata": {},
   "outputs": [
    {
     "name": "stderr",
     "output_type": "stream",
     "text": [
      "C:\\Users\\max\\Anaconda3\\envs\\tensorflow\\lib\\site-packages\\keras\\models.py:1153: UserWarning: Network returning invalid probability values. The last layer might not normalize predictions into probabilities (like softmax or sigmoid would).\n",
      "  warnings.warn('Network returning invalid probability values. '\n"
     ]
    },
    {
     "data": {
      "text/plain": [
       "0.8209644173493807"
      ]
     },
     "execution_count": 17,
     "metadata": {},
     "output_type": "execute_result"
    }
   ],
   "source": [
    "roc_auc_score(y_test, history.model.predict_proba(X_test_ss))"
   ]
  },
  {
   "cell_type": "code",
   "execution_count": null,
   "metadata": {},
   "outputs": [],
   "source": []
  }
 ],
 "metadata": {
  "kernelspec": {
   "display_name": "Python 3",
   "language": "python",
   "name": "python3"
  },
  "language_info": {
   "codemirror_mode": {
    "name": "ipython",
    "version": 3
   },
   "file_extension": ".py",
   "mimetype": "text/x-python",
   "name": "python",
   "nbconvert_exporter": "python",
   "pygments_lexer": "ipython3",
   "version": "3.5.5"
  }
 },
 "nbformat": 4,
 "nbformat_minor": 2
}
