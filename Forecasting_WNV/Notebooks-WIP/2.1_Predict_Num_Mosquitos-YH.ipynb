{
 "cells": [
  {
   "cell_type": "markdown",
   "metadata": {},
   "source": [
    "# Predict Num_Mosquitos"
   ]
  },
  {
   "cell_type": "markdown",
   "metadata": {},
   "source": [
    "#### Key variable missing from test data:  the number of mosquitos. To predict the number of mosquitos for this test data, we decided to create a model to predict the number of mosquitos using our train data.\n",
    "#### First, define new y, NumMosquitos. Then, use rest of variables to predict for first pass. Expert knowledge might come in handy to reduce features if model is overfit."
   ]
  },
  {
   "cell_type": "code",
   "execution_count": 3,
   "metadata": {},
   "outputs": [
    {
     "name": "stderr",
     "output_type": "stream",
     "text": [
      "/Users/yukiharuhadeishi/anaconda3/lib/python3.6/site-packages/h5py/__init__.py:36: FutureWarning: Conversion of the second argument of issubdtype from `float` to `np.floating` is deprecated. In future, it will be treated as `np.float64 == np.dtype(float).type`.\n",
      "  from ._conv import register_converters as _register_converters\n",
      "Using TensorFlow backend.\n"
     ]
    },
    {
     "name": "stdout",
     "output_type": "stream",
     "text": [
      "Couldn't import dot_parser, loading of dot files will not be possible.\n"
     ]
    }
   ],
   "source": [
    "import pandas as pd\n",
    "import numpy as np\n",
    "import matplotlib.pyplot as plt\n",
    "import seaborn as sns\n",
    "import pickle\n",
    "%matplotlib inline\n",
    "\n",
    "from sklearn.linear_model import LogisticRegression, LinearRegression\n",
    "from sklearn.model_selection import train_test_split\n",
    "from sklearn.metrics import confusion_matrix\n",
    "from sklearn.preprocessing import StandardScaler\n",
    "\n",
    "from keras.models import Sequential\n",
    "from keras.layers import Dense\n",
    "from keras.utils import to_categorical\n",
    "from keras.optimizers import Adam"
   ]
  },
  {
   "cell_type": "markdown",
   "metadata": {},
   "source": [
    "#### Import Scaled Split Data"
   ]
  },
  {
   "cell_type": "code",
   "execution_count": 10,
   "metadata": {},
   "outputs": [],
   "source": [
    "with open('../Cleansed_Data/X_train_ss.pkl','rb') as f:\n",
    "    X_train_ss = pickle.load(f)\n",
    "    \n",
    "with open('../Cleansed_Data/X_test_ss.pkl','rb') as f:\n",
    "    X_test_ss = pickle.load(f)\n",
    "    \n",
    "with open('../Cleansed_Data/y_train.pkl','rb') as f:\n",
    "    y_train = pickle.load(f)\n",
    "    \n",
    "with open('../Cleansed_Data/y_test.pkl','rb') as f:\n",
    "    y_test = pickle.load(f)"
   ]
  },
  {
   "cell_type": "code",
   "execution_count": 11,
   "metadata": {},
   "outputs": [
    {
     "data": {
      "text/html": [
       "<div>\n",
       "<style scoped>\n",
       "    .dataframe tbody tr th:only-of-type {\n",
       "        vertical-align: middle;\n",
       "    }\n",
       "\n",
       "    .dataframe tbody tr th {\n",
       "        vertical-align: top;\n",
       "    }\n",
       "\n",
       "    .dataframe thead th {\n",
       "        text-align: right;\n",
       "    }\n",
       "</style>\n",
       "<table border=\"1\" class=\"dataframe\">\n",
       "  <thead>\n",
       "    <tr style=\"text-align: right;\">\n",
       "      <th></th>\n",
       "      <th>Latitude</th>\n",
       "      <th>Longitude</th>\n",
       "      <th>NumMosquitos</th>\n",
       "      <th>Tavg</th>\n",
       "      <th>Tmax</th>\n",
       "      <th>Tmin</th>\n",
       "      <th>BR</th>\n",
       "      <th>HZ</th>\n",
       "      <th>RA</th>\n",
       "      <th>TSRA</th>\n",
       "      <th>...</th>\n",
       "      <th>Month_08</th>\n",
       "      <th>Month_09</th>\n",
       "      <th>Month_10</th>\n",
       "      <th>Species_CULEX ERRATICUS</th>\n",
       "      <th>Species_CULEX PIPIENS</th>\n",
       "      <th>Species_CULEX PIPIENS/RESTUANS</th>\n",
       "      <th>Species_CULEX RESTUANS</th>\n",
       "      <th>Species_CULEX SALINARIUS</th>\n",
       "      <th>Species_CULEX TARSALIS</th>\n",
       "      <th>Species_CULEX TERRITANS</th>\n",
       "    </tr>\n",
       "  </thead>\n",
       "  <tbody>\n",
       "    <tr>\n",
       "      <th>10140</th>\n",
       "      <td>-0.863790</td>\n",
       "      <td>-0.329696</td>\n",
       "      <td>0.011836</td>\n",
       "      <td>-0.002088</td>\n",
       "      <td>0.435022</td>\n",
       "      <td>-0.552766</td>\n",
       "      <td>-0.712498</td>\n",
       "      <td>-0.527474</td>\n",
       "      <td>-0.747020</td>\n",
       "      <td>-0.506378</td>\n",
       "      <td>...</td>\n",
       "      <td>-0.744753</td>\n",
       "      <td>1.931137</td>\n",
       "      <td>-0.162622</td>\n",
       "      <td>-0.011267</td>\n",
       "      <td>1.685687</td>\n",
       "      <td>-0.910219</td>\n",
       "      <td>-0.589125</td>\n",
       "      <td>-0.088332</td>\n",
       "      <td>-0.025199</td>\n",
       "      <td>-0.144431</td>\n",
       "    </tr>\n",
       "    <tr>\n",
       "      <th>7737</th>\n",
       "      <td>0.515998</td>\n",
       "      <td>-0.176909</td>\n",
       "      <td>-0.546211</td>\n",
       "      <td>0.266496</td>\n",
       "      <td>0.495685</td>\n",
       "      <td>0.048510</td>\n",
       "      <td>-0.712498</td>\n",
       "      <td>-0.527474</td>\n",
       "      <td>-0.747020</td>\n",
       "      <td>-0.506378</td>\n",
       "      <td>...</td>\n",
       "      <td>-0.744753</td>\n",
       "      <td>1.931137</td>\n",
       "      <td>-0.162622</td>\n",
       "      <td>-0.011267</td>\n",
       "      <td>1.685687</td>\n",
       "      <td>-0.910219</td>\n",
       "      <td>-0.589125</td>\n",
       "      <td>-0.088332</td>\n",
       "      <td>-0.025199</td>\n",
       "      <td>-0.144431</td>\n",
       "    </tr>\n",
       "    <tr>\n",
       "      <th>8079</th>\n",
       "      <td>-0.661906</td>\n",
       "      <td>1.428458</td>\n",
       "      <td>-0.732227</td>\n",
       "      <td>-2.822215</td>\n",
       "      <td>-2.962122</td>\n",
       "      <td>-2.356596</td>\n",
       "      <td>-0.712498</td>\n",
       "      <td>-0.527474</td>\n",
       "      <td>1.338653</td>\n",
       "      <td>-0.506378</td>\n",
       "      <td>...</td>\n",
       "      <td>-0.744753</td>\n",
       "      <td>1.931137</td>\n",
       "      <td>-0.162622</td>\n",
       "      <td>-0.011267</td>\n",
       "      <td>-0.593230</td>\n",
       "      <td>1.098637</td>\n",
       "      <td>-0.589125</td>\n",
       "      <td>-0.088332</td>\n",
       "      <td>-0.025199</td>\n",
       "      <td>-0.144431</td>\n",
       "    </tr>\n",
       "    <tr>\n",
       "      <th>2449</th>\n",
       "      <td>-1.013760</td>\n",
       "      <td>1.193503</td>\n",
       "      <td>2.306030</td>\n",
       "      <td>0.937954</td>\n",
       "      <td>0.980991</td>\n",
       "      <td>0.783404</td>\n",
       "      <td>1.403512</td>\n",
       "      <td>-0.527474</td>\n",
       "      <td>1.338653</td>\n",
       "      <td>1.974810</td>\n",
       "      <td>...</td>\n",
       "      <td>1.342727</td>\n",
       "      <td>-0.517830</td>\n",
       "      <td>-0.162622</td>\n",
       "      <td>-0.011267</td>\n",
       "      <td>1.685687</td>\n",
       "      <td>-0.910219</td>\n",
       "      <td>-0.589125</td>\n",
       "      <td>-0.088332</td>\n",
       "      <td>-0.025199</td>\n",
       "      <td>-0.144431</td>\n",
       "    </tr>\n",
       "    <tr>\n",
       "      <th>449</th>\n",
       "      <td>0.188928</td>\n",
       "      <td>0.531668</td>\n",
       "      <td>-0.732227</td>\n",
       "      <td>0.535079</td>\n",
       "      <td>0.374358</td>\n",
       "      <td>0.716595</td>\n",
       "      <td>1.403512</td>\n",
       "      <td>1.895829</td>\n",
       "      <td>1.338653</td>\n",
       "      <td>1.974810</td>\n",
       "      <td>...</td>\n",
       "      <td>-0.744753</td>\n",
       "      <td>-0.517830</td>\n",
       "      <td>-0.162622</td>\n",
       "      <td>-0.011267</td>\n",
       "      <td>1.685687</td>\n",
       "      <td>-0.910219</td>\n",
       "      <td>-0.589125</td>\n",
       "      <td>-0.088332</td>\n",
       "      <td>-0.025199</td>\n",
       "      <td>-0.144431</td>\n",
       "    </tr>\n",
       "  </tbody>\n",
       "</table>\n",
       "<p>5 rows × 35 columns</p>\n",
       "</div>"
      ],
      "text/plain": [
       "       Latitude  Longitude  NumMosquitos      Tavg      Tmax      Tmin  \\\n",
       "10140 -0.863790  -0.329696      0.011836 -0.002088  0.435022 -0.552766   \n",
       "7737   0.515998  -0.176909     -0.546211  0.266496  0.495685  0.048510   \n",
       "8079  -0.661906   1.428458     -0.732227 -2.822215 -2.962122 -2.356596   \n",
       "2449  -1.013760   1.193503      2.306030  0.937954  0.980991  0.783404   \n",
       "449    0.188928   0.531668     -0.732227  0.535079  0.374358  0.716595   \n",
       "\n",
       "             BR        HZ        RA      TSRA           ...             \\\n",
       "10140 -0.712498 -0.527474 -0.747020 -0.506378           ...              \n",
       "7737  -0.712498 -0.527474 -0.747020 -0.506378           ...              \n",
       "8079  -0.712498 -0.527474  1.338653 -0.506378           ...              \n",
       "2449   1.403512 -0.527474  1.338653  1.974810           ...              \n",
       "449    1.403512  1.895829  1.338653  1.974810           ...              \n",
       "\n",
       "       Month_08  Month_09  Month_10  Species_CULEX ERRATICUS  \\\n",
       "10140 -0.744753  1.931137 -0.162622                -0.011267   \n",
       "7737  -0.744753  1.931137 -0.162622                -0.011267   \n",
       "8079  -0.744753  1.931137 -0.162622                -0.011267   \n",
       "2449   1.342727 -0.517830 -0.162622                -0.011267   \n",
       "449   -0.744753 -0.517830 -0.162622                -0.011267   \n",
       "\n",
       "       Species_CULEX PIPIENS  Species_CULEX PIPIENS/RESTUANS  \\\n",
       "10140               1.685687                       -0.910219   \n",
       "7737                1.685687                       -0.910219   \n",
       "8079               -0.593230                        1.098637   \n",
       "2449                1.685687                       -0.910219   \n",
       "449                 1.685687                       -0.910219   \n",
       "\n",
       "       Species_CULEX RESTUANS  Species_CULEX SALINARIUS  \\\n",
       "10140               -0.589125                 -0.088332   \n",
       "7737                -0.589125                 -0.088332   \n",
       "8079                -0.589125                 -0.088332   \n",
       "2449                -0.589125                 -0.088332   \n",
       "449                 -0.589125                 -0.088332   \n",
       "\n",
       "       Species_CULEX TARSALIS  Species_CULEX TERRITANS  \n",
       "10140               -0.025199                -0.144431  \n",
       "7737                -0.025199                -0.144431  \n",
       "8079                -0.025199                -0.144431  \n",
       "2449                -0.025199                -0.144431  \n",
       "449                 -0.025199                -0.144431  \n",
       "\n",
       "[5 rows x 35 columns]"
      ]
     },
     "execution_count": 11,
     "metadata": {},
     "output_type": "execute_result"
    }
   ],
   "source": [
    "X_train_ss.head()"
   ]
  },
  {
   "cell_type": "code",
   "execution_count": 12,
   "metadata": {},
   "outputs": [],
   "source": [
    "# Define new y:  NumMosquitos\n",
    "new_y_train_ss = X_train_ss.NumMosquitos"
   ]
  },
  {
   "cell_type": "code",
   "execution_count": 13,
   "metadata": {},
   "outputs": [],
   "source": [
    "new_X_train_ss = X_train_ss.drop(columns='NumMosquitos')"
   ]
  },
  {
   "cell_type": "code",
   "execution_count": 14,
   "metadata": {},
   "outputs": [
    {
     "data": {
      "text/html": [
       "<div>\n",
       "<style scoped>\n",
       "    .dataframe tbody tr th:only-of-type {\n",
       "        vertical-align: middle;\n",
       "    }\n",
       "\n",
       "    .dataframe tbody tr th {\n",
       "        vertical-align: top;\n",
       "    }\n",
       "\n",
       "    .dataframe thead th {\n",
       "        text-align: right;\n",
       "    }\n",
       "</style>\n",
       "<table border=\"1\" class=\"dataframe\">\n",
       "  <thead>\n",
       "    <tr style=\"text-align: right;\">\n",
       "      <th></th>\n",
       "      <th>Latitude</th>\n",
       "      <th>Longitude</th>\n",
       "      <th>Tavg</th>\n",
       "      <th>Tmax</th>\n",
       "      <th>Tmin</th>\n",
       "      <th>BR</th>\n",
       "      <th>HZ</th>\n",
       "      <th>RA</th>\n",
       "      <th>TSRA</th>\n",
       "      <th>VCTS</th>\n",
       "      <th>...</th>\n",
       "      <th>Month_08</th>\n",
       "      <th>Month_09</th>\n",
       "      <th>Month_10</th>\n",
       "      <th>Species_CULEX ERRATICUS</th>\n",
       "      <th>Species_CULEX PIPIENS</th>\n",
       "      <th>Species_CULEX PIPIENS/RESTUANS</th>\n",
       "      <th>Species_CULEX RESTUANS</th>\n",
       "      <th>Species_CULEX SALINARIUS</th>\n",
       "      <th>Species_CULEX TARSALIS</th>\n",
       "      <th>Species_CULEX TERRITANS</th>\n",
       "    </tr>\n",
       "  </thead>\n",
       "  <tbody>\n",
       "    <tr>\n",
       "      <th>10140</th>\n",
       "      <td>-0.863790</td>\n",
       "      <td>-0.329696</td>\n",
       "      <td>-0.002088</td>\n",
       "      <td>0.435022</td>\n",
       "      <td>-0.552766</td>\n",
       "      <td>-0.712498</td>\n",
       "      <td>-0.527474</td>\n",
       "      <td>-0.747020</td>\n",
       "      <td>-0.506378</td>\n",
       "      <td>-0.230349</td>\n",
       "      <td>...</td>\n",
       "      <td>-0.744753</td>\n",
       "      <td>1.931137</td>\n",
       "      <td>-0.162622</td>\n",
       "      <td>-0.011267</td>\n",
       "      <td>1.685687</td>\n",
       "      <td>-0.910219</td>\n",
       "      <td>-0.589125</td>\n",
       "      <td>-0.088332</td>\n",
       "      <td>-0.025199</td>\n",
       "      <td>-0.144431</td>\n",
       "    </tr>\n",
       "    <tr>\n",
       "      <th>7737</th>\n",
       "      <td>0.515998</td>\n",
       "      <td>-0.176909</td>\n",
       "      <td>0.266496</td>\n",
       "      <td>0.495685</td>\n",
       "      <td>0.048510</td>\n",
       "      <td>-0.712498</td>\n",
       "      <td>-0.527474</td>\n",
       "      <td>-0.747020</td>\n",
       "      <td>-0.506378</td>\n",
       "      <td>-0.230349</td>\n",
       "      <td>...</td>\n",
       "      <td>-0.744753</td>\n",
       "      <td>1.931137</td>\n",
       "      <td>-0.162622</td>\n",
       "      <td>-0.011267</td>\n",
       "      <td>1.685687</td>\n",
       "      <td>-0.910219</td>\n",
       "      <td>-0.589125</td>\n",
       "      <td>-0.088332</td>\n",
       "      <td>-0.025199</td>\n",
       "      <td>-0.144431</td>\n",
       "    </tr>\n",
       "    <tr>\n",
       "      <th>8079</th>\n",
       "      <td>-0.661906</td>\n",
       "      <td>1.428458</td>\n",
       "      <td>-2.822215</td>\n",
       "      <td>-2.962122</td>\n",
       "      <td>-2.356596</td>\n",
       "      <td>-0.712498</td>\n",
       "      <td>-0.527474</td>\n",
       "      <td>1.338653</td>\n",
       "      <td>-0.506378</td>\n",
       "      <td>-0.230349</td>\n",
       "      <td>...</td>\n",
       "      <td>-0.744753</td>\n",
       "      <td>1.931137</td>\n",
       "      <td>-0.162622</td>\n",
       "      <td>-0.011267</td>\n",
       "      <td>-0.593230</td>\n",
       "      <td>1.098637</td>\n",
       "      <td>-0.589125</td>\n",
       "      <td>-0.088332</td>\n",
       "      <td>-0.025199</td>\n",
       "      <td>-0.144431</td>\n",
       "    </tr>\n",
       "    <tr>\n",
       "      <th>2449</th>\n",
       "      <td>-1.013760</td>\n",
       "      <td>1.193503</td>\n",
       "      <td>0.937954</td>\n",
       "      <td>0.980991</td>\n",
       "      <td>0.783404</td>\n",
       "      <td>1.403512</td>\n",
       "      <td>-0.527474</td>\n",
       "      <td>1.338653</td>\n",
       "      <td>1.974810</td>\n",
       "      <td>-0.230349</td>\n",
       "      <td>...</td>\n",
       "      <td>1.342727</td>\n",
       "      <td>-0.517830</td>\n",
       "      <td>-0.162622</td>\n",
       "      <td>-0.011267</td>\n",
       "      <td>1.685687</td>\n",
       "      <td>-0.910219</td>\n",
       "      <td>-0.589125</td>\n",
       "      <td>-0.088332</td>\n",
       "      <td>-0.025199</td>\n",
       "      <td>-0.144431</td>\n",
       "    </tr>\n",
       "    <tr>\n",
       "      <th>449</th>\n",
       "      <td>0.188928</td>\n",
       "      <td>0.531668</td>\n",
       "      <td>0.535079</td>\n",
       "      <td>0.374358</td>\n",
       "      <td>0.716595</td>\n",
       "      <td>1.403512</td>\n",
       "      <td>1.895829</td>\n",
       "      <td>1.338653</td>\n",
       "      <td>1.974810</td>\n",
       "      <td>4.341238</td>\n",
       "      <td>...</td>\n",
       "      <td>-0.744753</td>\n",
       "      <td>-0.517830</td>\n",
       "      <td>-0.162622</td>\n",
       "      <td>-0.011267</td>\n",
       "      <td>1.685687</td>\n",
       "      <td>-0.910219</td>\n",
       "      <td>-0.589125</td>\n",
       "      <td>-0.088332</td>\n",
       "      <td>-0.025199</td>\n",
       "      <td>-0.144431</td>\n",
       "    </tr>\n",
       "  </tbody>\n",
       "</table>\n",
       "<p>5 rows × 34 columns</p>\n",
       "</div>"
      ],
      "text/plain": [
       "       Latitude  Longitude      Tavg      Tmax      Tmin        BR        HZ  \\\n",
       "10140 -0.863790  -0.329696 -0.002088  0.435022 -0.552766 -0.712498 -0.527474   \n",
       "7737   0.515998  -0.176909  0.266496  0.495685  0.048510 -0.712498 -0.527474   \n",
       "8079  -0.661906   1.428458 -2.822215 -2.962122 -2.356596 -0.712498 -0.527474   \n",
       "2449  -1.013760   1.193503  0.937954  0.980991  0.783404  1.403512 -0.527474   \n",
       "449    0.188928   0.531668  0.535079  0.374358  0.716595  1.403512  1.895829   \n",
       "\n",
       "             RA      TSRA      VCTS           ...             Month_08  \\\n",
       "10140 -0.747020 -0.506378 -0.230349           ...            -0.744753   \n",
       "7737  -0.747020 -0.506378 -0.230349           ...            -0.744753   \n",
       "8079   1.338653 -0.506378 -0.230349           ...            -0.744753   \n",
       "2449   1.338653  1.974810 -0.230349           ...             1.342727   \n",
       "449    1.338653  1.974810  4.341238           ...            -0.744753   \n",
       "\n",
       "       Month_09  Month_10  Species_CULEX ERRATICUS  Species_CULEX PIPIENS  \\\n",
       "10140  1.931137 -0.162622                -0.011267               1.685687   \n",
       "7737   1.931137 -0.162622                -0.011267               1.685687   \n",
       "8079   1.931137 -0.162622                -0.011267              -0.593230   \n",
       "2449  -0.517830 -0.162622                -0.011267               1.685687   \n",
       "449   -0.517830 -0.162622                -0.011267               1.685687   \n",
       "\n",
       "       Species_CULEX PIPIENS/RESTUANS  Species_CULEX RESTUANS  \\\n",
       "10140                       -0.910219               -0.589125   \n",
       "7737                        -0.910219               -0.589125   \n",
       "8079                         1.098637               -0.589125   \n",
       "2449                        -0.910219               -0.589125   \n",
       "449                         -0.910219               -0.589125   \n",
       "\n",
       "       Species_CULEX SALINARIUS  Species_CULEX TARSALIS  \\\n",
       "10140                 -0.088332               -0.025199   \n",
       "7737                  -0.088332               -0.025199   \n",
       "8079                  -0.088332               -0.025199   \n",
       "2449                  -0.088332               -0.025199   \n",
       "449                   -0.088332               -0.025199   \n",
       "\n",
       "       Species_CULEX TERRITANS  \n",
       "10140                -0.144431  \n",
       "7737                 -0.144431  \n",
       "8079                 -0.144431  \n",
       "2449                 -0.144431  \n",
       "449                  -0.144431  \n",
       "\n",
       "[5 rows x 34 columns]"
      ]
     },
     "execution_count": 14,
     "metadata": {},
     "output_type": "execute_result"
    }
   ],
   "source": [
    "new_X_train_ss.head()"
   ]
  },
  {
   "cell_type": "markdown",
   "metadata": {},
   "source": [
    "# Linear Regression to predict NumMosquitos: "
   ]
  },
  {
   "cell_type": "code",
   "execution_count": 15,
   "metadata": {},
   "outputs": [],
   "source": [
    "linreg = LinearRegression()"
   ]
  },
  {
   "cell_type": "code",
   "execution_count": 16,
   "metadata": {},
   "outputs": [
    {
     "data": {
      "text/plain": [
       "LinearRegression(copy_X=True, fit_intercept=True, n_jobs=1, normalize=False)"
      ]
     },
     "execution_count": 16,
     "metadata": {},
     "output_type": "execute_result"
    }
   ],
   "source": [
    "linreg.fit(new_X_train_ss, new_y_train_ss)"
   ]
  },
  {
   "cell_type": "code",
   "execution_count": 17,
   "metadata": {},
   "outputs": [],
   "source": [
    "NumMosq_hat = linreg.predict(new_X_train_ss)"
   ]
  },
  {
   "cell_type": "code",
   "execution_count": 18,
   "metadata": {},
   "outputs": [
    {
     "data": {
      "text/plain": [
       "numpy.ndarray"
      ]
     },
     "execution_count": 18,
     "metadata": {},
     "output_type": "execute_result"
    }
   ],
   "source": [
    "type(NumMosq_hat)"
   ]
  },
  {
   "cell_type": "code",
   "execution_count": 19,
   "metadata": {},
   "outputs": [
    {
     "data": {
      "text/plain": [
       "7879"
      ]
     },
     "execution_count": 19,
     "metadata": {},
     "output_type": "execute_result"
    }
   ],
   "source": [
    "len(new_y_train_ss)"
   ]
  },
  {
   "cell_type": "code",
   "execution_count": 20,
   "metadata": {},
   "outputs": [],
   "source": [
    "NumMosq_train_df = pd.DataFrame(new_y_train_ss)"
   ]
  },
  {
   "cell_type": "code",
   "execution_count": 21,
   "metadata": {},
   "outputs": [],
   "source": [
    "index = NumMosq_train_df.index"
   ]
  },
  {
   "cell_type": "code",
   "execution_count": 27,
   "metadata": {},
   "outputs": [
    {
     "ename": "TypeError",
     "evalue": "Index(...) must be called with a collection of some kind, 'NumMosq_Predicted' was passed",
     "output_type": "error",
     "traceback": [
      "\u001b[0;31m---------------------------------------------------------------------------\u001b[0m",
      "\u001b[0;31mTypeError\u001b[0m                                 Traceback (most recent call last)",
      "\u001b[0;32m<ipython-input-27-bb6be5cd928a>\u001b[0m in \u001b[0;36m<module>\u001b[0;34m()\u001b[0m\n\u001b[1;32m      1\u001b[0m pd.DataFrame(data=NumMosq_hat, index = index,\n\u001b[0;32m----> 2\u001b[0;31m              columns='NumMosq_Predicted')\n\u001b[0m",
      "\u001b[0;32m~/anaconda3/lib/python3.6/site-packages/pandas/core/frame.py\u001b[0m in \u001b[0;36m__init__\u001b[0;34m(self, data, index, columns, dtype, copy)\u001b[0m\n\u001b[1;32m    359\u001b[0m             \u001b[0;32melse\u001b[0m\u001b[0;34m:\u001b[0m\u001b[0;34m\u001b[0m\u001b[0m\n\u001b[1;32m    360\u001b[0m                 mgr = self._init_ndarray(data, index, columns, dtype=dtype,\n\u001b[0;32m--> 361\u001b[0;31m                                          copy=copy)\n\u001b[0m\u001b[1;32m    362\u001b[0m         \u001b[0;32melif\u001b[0m \u001b[0misinstance\u001b[0m\u001b[0;34m(\u001b[0m\u001b[0mdata\u001b[0m\u001b[0;34m,\u001b[0m \u001b[0;34m(\u001b[0m\u001b[0mlist\u001b[0m\u001b[0;34m,\u001b[0m \u001b[0mtypes\u001b[0m\u001b[0;34m.\u001b[0m\u001b[0mGeneratorType\u001b[0m\u001b[0;34m)\u001b[0m\u001b[0;34m)\u001b[0m\u001b[0;34m:\u001b[0m\u001b[0;34m\u001b[0m\u001b[0m\n\u001b[1;32m    363\u001b[0m             \u001b[0;32mif\u001b[0m \u001b[0misinstance\u001b[0m\u001b[0;34m(\u001b[0m\u001b[0mdata\u001b[0m\u001b[0;34m,\u001b[0m \u001b[0mtypes\u001b[0m\u001b[0;34m.\u001b[0m\u001b[0mGeneratorType\u001b[0m\u001b[0;34m)\u001b[0m\u001b[0;34m:\u001b[0m\u001b[0;34m\u001b[0m\u001b[0m\n",
      "\u001b[0;32m~/anaconda3/lib/python3.6/site-packages/pandas/core/frame.py\u001b[0m in \u001b[0;36m_init_ndarray\u001b[0;34m(self, values, index, columns, dtype, copy)\u001b[0m\n\u001b[1;32m    522\u001b[0m                     \u001b[0mraise_with_traceback\u001b[0m\u001b[0;34m(\u001b[0m\u001b[0me\u001b[0m\u001b[0;34m)\u001b[0m\u001b[0;34m\u001b[0m\u001b[0m\n\u001b[1;32m    523\u001b[0m \u001b[0;34m\u001b[0m\u001b[0m\n\u001b[0;32m--> 524\u001b[0;31m         \u001b[0mindex\u001b[0m\u001b[0;34m,\u001b[0m \u001b[0mcolumns\u001b[0m \u001b[0;34m=\u001b[0m \u001b[0m_get_axes\u001b[0m\u001b[0;34m(\u001b[0m\u001b[0;34m*\u001b[0m\u001b[0mvalues\u001b[0m\u001b[0;34m.\u001b[0m\u001b[0mshape\u001b[0m\u001b[0;34m)\u001b[0m\u001b[0;34m\u001b[0m\u001b[0m\n\u001b[0m\u001b[1;32m    525\u001b[0m         \u001b[0mvalues\u001b[0m \u001b[0;34m=\u001b[0m \u001b[0mvalues\u001b[0m\u001b[0;34m.\u001b[0m\u001b[0mT\u001b[0m\u001b[0;34m\u001b[0m\u001b[0m\n\u001b[1;32m    526\u001b[0m \u001b[0;34m\u001b[0m\u001b[0m\n",
      "\u001b[0;32m~/anaconda3/lib/python3.6/site-packages/pandas/core/frame.py\u001b[0m in \u001b[0;36m_get_axes\u001b[0;34m(N, K, index, columns)\u001b[0m\n\u001b[1;32m    489\u001b[0m                 \u001b[0mcolumns\u001b[0m \u001b[0;34m=\u001b[0m \u001b[0m_default_index\u001b[0m\u001b[0;34m(\u001b[0m\u001b[0mK\u001b[0m\u001b[0;34m)\u001b[0m\u001b[0;34m\u001b[0m\u001b[0m\n\u001b[1;32m    490\u001b[0m             \u001b[0;32melse\u001b[0m\u001b[0;34m:\u001b[0m\u001b[0;34m\u001b[0m\u001b[0m\n\u001b[0;32m--> 491\u001b[0;31m                 \u001b[0mcolumns\u001b[0m \u001b[0;34m=\u001b[0m \u001b[0m_ensure_index\u001b[0m\u001b[0;34m(\u001b[0m\u001b[0mcolumns\u001b[0m\u001b[0;34m)\u001b[0m\u001b[0;34m\u001b[0m\u001b[0m\n\u001b[0m\u001b[1;32m    492\u001b[0m             \u001b[0;32mreturn\u001b[0m \u001b[0mindex\u001b[0m\u001b[0;34m,\u001b[0m \u001b[0mcolumns\u001b[0m\u001b[0;34m\u001b[0m\u001b[0m\n\u001b[1;32m    493\u001b[0m \u001b[0;34m\u001b[0m\u001b[0m\n",
      "\u001b[0;32m~/anaconda3/lib/python3.6/site-packages/pandas/core/indexes/base.py\u001b[0m in \u001b[0;36m_ensure_index\u001b[0;34m(index_like, copy)\u001b[0m\n\u001b[1;32m   4210\u001b[0m             \u001b[0mindex_like\u001b[0m \u001b[0;34m=\u001b[0m \u001b[0mcopy\u001b[0m\u001b[0;34m(\u001b[0m\u001b[0mindex_like\u001b[0m\u001b[0;34m)\u001b[0m\u001b[0;34m\u001b[0m\u001b[0m\n\u001b[1;32m   4211\u001b[0m \u001b[0;34m\u001b[0m\u001b[0m\n\u001b[0;32m-> 4212\u001b[0;31m     \u001b[0;32mreturn\u001b[0m \u001b[0mIndex\u001b[0m\u001b[0;34m(\u001b[0m\u001b[0mindex_like\u001b[0m\u001b[0;34m)\u001b[0m\u001b[0;34m\u001b[0m\u001b[0m\n\u001b[0m\u001b[1;32m   4213\u001b[0m \u001b[0;34m\u001b[0m\u001b[0m\n\u001b[1;32m   4214\u001b[0m \u001b[0;34m\u001b[0m\u001b[0m\n",
      "\u001b[0;32m~/anaconda3/lib/python3.6/site-packages/pandas/core/indexes/base.py\u001b[0m in \u001b[0;36m__new__\u001b[0;34m(cls, data, dtype, copy, name, fastpath, tupleize_cols, **kwargs)\u001b[0m\n\u001b[1;32m    353\u001b[0m                          **kwargs)\n\u001b[1;32m    354\u001b[0m         \u001b[0;32melif\u001b[0m \u001b[0mdata\u001b[0m \u001b[0;32mis\u001b[0m \u001b[0;32mNone\u001b[0m \u001b[0;32mor\u001b[0m \u001b[0mis_scalar\u001b[0m\u001b[0;34m(\u001b[0m\u001b[0mdata\u001b[0m\u001b[0;34m)\u001b[0m\u001b[0;34m:\u001b[0m\u001b[0;34m\u001b[0m\u001b[0m\n\u001b[0;32m--> 355\u001b[0;31m             \u001b[0mcls\u001b[0m\u001b[0;34m.\u001b[0m\u001b[0m_scalar_data_error\u001b[0m\u001b[0;34m(\u001b[0m\u001b[0mdata\u001b[0m\u001b[0;34m)\u001b[0m\u001b[0;34m\u001b[0m\u001b[0m\n\u001b[0m\u001b[1;32m    356\u001b[0m         \u001b[0;32melse\u001b[0m\u001b[0;34m:\u001b[0m\u001b[0;34m\u001b[0m\u001b[0m\n\u001b[1;32m    357\u001b[0m             if (tupleize_cols and isinstance(data, list) and data and\n",
      "\u001b[0;32m~/anaconda3/lib/python3.6/site-packages/pandas/core/indexes/base.py\u001b[0m in \u001b[0;36m_scalar_data_error\u001b[0;34m(cls, data)\u001b[0m\n\u001b[1;32m    708\u001b[0m         raise TypeError('{0}(...) must be called with a collection of some '\n\u001b[1;32m    709\u001b[0m                         'kind, {1} was passed'.format(cls.__name__,\n\u001b[0;32m--> 710\u001b[0;31m                                                       repr(data)))\n\u001b[0m\u001b[1;32m    711\u001b[0m \u001b[0;34m\u001b[0m\u001b[0m\n\u001b[1;32m    712\u001b[0m     \u001b[0;34m@\u001b[0m\u001b[0mclassmethod\u001b[0m\u001b[0;34m\u001b[0m\u001b[0m\n",
      "\u001b[0;31mTypeError\u001b[0m: Index(...) must be called with a collection of some kind, 'NumMosq_Predicted' was passed"
     ]
    }
   ],
   "source": []
  },
  {
   "cell_type": "code",
   "execution_count": null,
   "metadata": {},
   "outputs": [],
   "source": []
  }
 ],
 "metadata": {
  "kernelspec": {
   "display_name": "Python [default]",
   "language": "python",
   "name": "python3"
  },
  "language_info": {
   "codemirror_mode": {
    "name": "ipython",
    "version": 3
   },
   "file_extension": ".py",
   "mimetype": "text/x-python",
   "name": "python",
   "nbconvert_exporter": "python",
   "pygments_lexer": "ipython3",
   "version": "3.6.4"
  }
 },
 "nbformat": 4,
 "nbformat_minor": 2
}
